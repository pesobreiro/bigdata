{
 "cells": [
  {
   "cell_type": "markdown",
   "id": "760686b7",
   "metadata": {},
   "source": [
    "# First steps\n",
    "* PySpark Dataframe\n",
    "* Reading The Dataset\n",
    "* Checking the Datatypes of the Column(Schema)\n",
    "* Selecting Columns And Indexing\n",
    "* Check Describe option similar to Pandas\n",
    "* Adding Columns\n",
    "* Dropping columns\n",
    "* Renaming Columns"
   ]
  },
  {
   "cell_type": "markdown",
   "id": "cc7787cb-523b-4c2a-a0cd-660e2c5d45c5",
   "metadata": {},
   "source": [
    "# Check assumptions"
   ]
  },
  {
   "cell_type": "code",
   "execution_count": 1,
   "id": "779e4246-e479-4bc1-96b7-54599c40b9b2",
   "metadata": {},
   "outputs": [],
   "source": [
    "import pyspark"
   ]
  },
  {
   "cell_type": "code",
   "execution_count": 2,
   "id": "ea2ea829",
   "metadata": {},
   "outputs": [
    {
     "data": {
      "text/plain": [
       "'3.5.1'"
      ]
     },
     "execution_count": 2,
     "metadata": {},
     "output_type": "execute_result"
    }
   ],
   "source": [
    "pyspark.__version__"
   ]
  },
  {
   "cell_type": "code",
   "execution_count": 3,
   "id": "0b488bc2",
   "metadata": {},
   "outputs": [],
   "source": [
    "import findspark\n",
    "findspark.init()"
   ]
  },
  {
   "cell_type": "markdown",
   "id": "13bae9a8-d72d-42a8-8801-261abbb2d801",
   "metadata": {},
   "source": [
    "Se der erro:\n",
    "\n",
    "```Py4JJavaError: An error occurred while calling None.org.apache.spark.api.java.JavaSparkContext.\n",
    ": java.net.BindException: Cannot assign requested address: bind: Service 'sparkDriver' failed after 16 retries (on a random free port)! Consider explicitly setting the appropriate binding address for the service 'sparkDriver' (for example spark.driver.bindAddress for SparkDriver) to the correct binding address```"
   ]
  },
  {
   "cell_type": "code",
   "execution_count": 4,
   "id": "e04ecdbe-453f-427b-9854-d6ecbca01f49",
   "metadata": {},
   "outputs": [],
   "source": [
    "conf = pyspark.SparkConf().set('spark.driver.host','localhost')"
   ]
  },
  {
   "cell_type": "code",
   "execution_count": 5,
   "id": "80558b32",
   "metadata": {},
   "outputs": [
    {
     "name": "stderr",
     "output_type": "stream",
     "text": [
      "your 131072x1 screen size is bogus. expect trouble\n",
      "24/04/26 20:04:36 WARN Utils: Your hostname, msi-sobreiro resolves to a loopback address: 127.0.1.1; using 10.255.255.254 instead (on interface lo)\n",
      "24/04/26 20:04:36 WARN Utils: Set SPARK_LOCAL_IP if you need to bind to another address\n",
      "Setting default log level to \"WARN\".\n",
      "To adjust logging level use sc.setLogLevel(newLevel). For SparkR, use setLogLevel(newLevel).\n",
      "24/04/26 20:04:37 WARN NativeCodeLoader: Unable to load native-hadoop library for your platform... using builtin-java classes where applicable\n",
      "24/04/26 20:04:39 WARN Utils: Service 'SparkUI' could not bind on port 4040. Attempting port 4041.\n"
     ]
    }
   ],
   "source": [
    "# Import PySpark and create a SparkSession\n",
    "from pyspark.sql import SparkSession\n",
    "\n",
    "spark = SparkSession.builder.appName(\"ImportData\").getOrCreate()"
   ]
  },
  {
   "cell_type": "code",
   "execution_count": 6,
   "id": "1a07e8a5",
   "metadata": {},
   "outputs": [
    {
     "data": {
      "text/html": [
       "\n",
       "            <div>\n",
       "                <p><b>SparkSession - in-memory</b></p>\n",
       "                \n",
       "        <div>\n",
       "            <p><b>SparkContext</b></p>\n",
       "\n",
       "            <p><a href=\"http://10.255.255.254:4041\">Spark UI</a></p>\n",
       "\n",
       "            <dl>\n",
       "              <dt>Version</dt>\n",
       "                <dd><code>v3.5.1</code></dd>\n",
       "              <dt>Master</dt>\n",
       "                <dd><code>local[*]</code></dd>\n",
       "              <dt>AppName</dt>\n",
       "                <dd><code>ImportData</code></dd>\n",
       "            </dl>\n",
       "        </div>\n",
       "        \n",
       "            </div>\n",
       "        "
      ],
      "text/plain": [
       "<pyspark.sql.session.SparkSession at 0x7f528d9dcdd0>"
      ]
     },
     "execution_count": 6,
     "metadata": {},
     "output_type": "execute_result"
    }
   ],
   "source": [
    "spark"
   ]
  },
  {
   "cell_type": "markdown",
   "id": "85cc06b9",
   "metadata": {},
   "source": [
    "# Comandos jupyter notebook\n",
    "\n",
    "\n",
    "* a = above abre célula acima\n",
    "* b = bellow abre célula abaixo\n",
    "* dd = apaga célula\n",
    "* x corta célula\n",
    "* v cola célula\n",
    "* m modo markdown\n",
    "* y modo código\n",
    "\n",
    "# Markdown\n",
    "\n",
    "* \\# Titulo 1\n",
    "* \\## Titulo 2\n",
    "* \\* unnumbered bullet\n",
    "* \\1. numbered bullet\n",
    "\n",
    "1. Item\n",
    "2. Item\n",
    "3. Item\n",
    "\n",
    "[Nome texto)(hiperligação)\n",
    "\n"
   ]
  },
  {
   "cell_type": "markdown",
   "id": "ba5a6a3f",
   "metadata": {},
   "source": [
    "# Descarregar ficheiro que está no moodle\n",
    "\n",
    "* sxp500 e gravar no local onde está no notebook\n",
    "* para confirmar podem inserir o comando numa célula !pwd"
   ]
  },
  {
   "cell_type": "code",
   "execution_count": 7,
   "id": "6d30f5e1",
   "metadata": {},
   "outputs": [
    {
     "name": "stdout",
     "output_type": "stream",
     "text": [
      "/mnt/g/My Drive/mestrados/big_data/exemplos\n"
     ]
    }
   ],
   "source": [
    "!pwd"
   ]
  },
  {
   "cell_type": "code",
   "execution_count": 13,
   "id": "550ad8ba",
   "metadata": {},
   "outputs": [],
   "source": [
    "import pandas as pd\n",
    "\n",
    "df_exemplo=pd.read_csv(\"./data/spx500.csv\")"
   ]
  },
  {
   "cell_type": "code",
   "execution_count": 14,
   "id": "d7b9d2a1",
   "metadata": {},
   "outputs": [
    {
     "data": {
      "text/html": [
       "<div>\n",
       "<style scoped>\n",
       "    .dataframe tbody tr th:only-of-type {\n",
       "        vertical-align: middle;\n",
       "    }\n",
       "\n",
       "    .dataframe tbody tr th {\n",
       "        vertical-align: top;\n",
       "    }\n",
       "\n",
       "    .dataframe thead th {\n",
       "        text-align: right;\n",
       "    }\n",
       "</style>\n",
       "<table border=\"1\" class=\"dataframe\">\n",
       "  <thead>\n",
       "    <tr style=\"text-align: right;\">\n",
       "      <th></th>\n",
       "      <th>Unnamed: 0</th>\n",
       "      <th>open</th>\n",
       "      <th>high</th>\n",
       "      <th>low</th>\n",
       "      <th>close</th>\n",
       "      <th>adj_close</th>\n",
       "      <th>volume</th>\n",
       "    </tr>\n",
       "  </thead>\n",
       "  <tbody>\n",
       "    <tr>\n",
       "      <th>count</th>\n",
       "      <td>1229.000000</td>\n",
       "      <td>1229.000000</td>\n",
       "      <td>1229.000000</td>\n",
       "      <td>1229.000000</td>\n",
       "      <td>1229.000000</td>\n",
       "      <td>1229.000000</td>\n",
       "      <td>1.229000e+03</td>\n",
       "    </tr>\n",
       "    <tr>\n",
       "      <th>mean</th>\n",
       "      <td>614.000000</td>\n",
       "      <td>3437.767981</td>\n",
       "      <td>3458.883555</td>\n",
       "      <td>3414.612938</td>\n",
       "      <td>3437.854352</td>\n",
       "      <td>3437.854352</td>\n",
       "      <td>4.235175e+09</td>\n",
       "    </tr>\n",
       "    <tr>\n",
       "      <th>std</th>\n",
       "      <td>354.926049</td>\n",
       "      <td>672.382944</td>\n",
       "      <td>675.864967</td>\n",
       "      <td>668.834080</td>\n",
       "      <td>672.511442</td>\n",
       "      <td>672.511442</td>\n",
       "      <td>1.083341e+09</td>\n",
       "    </tr>\n",
       "    <tr>\n",
       "      <th>min</th>\n",
       "      <td>0.000000</td>\n",
       "      <td>2290.709961</td>\n",
       "      <td>2300.729980</td>\n",
       "      <td>2191.860107</td>\n",
       "      <td>2237.399902</td>\n",
       "      <td>2237.399902</td>\n",
       "      <td>1.296530e+09</td>\n",
       "    </tr>\n",
       "    <tr>\n",
       "      <th>25%</th>\n",
       "      <td>307.000000</td>\n",
       "      <td>2836.699951</td>\n",
       "      <td>2852.419922</td>\n",
       "      <td>2820.429932</td>\n",
       "      <td>2839.250000</td>\n",
       "      <td>2839.250000</td>\n",
       "      <td>3.523520e+09</td>\n",
       "    </tr>\n",
       "    <tr>\n",
       "      <th>50%</th>\n",
       "      <td>614.000000</td>\n",
       "      <td>3240.090088</td>\n",
       "      <td>3259.810059</td>\n",
       "      <td>3227.199951</td>\n",
       "      <td>3246.219971</td>\n",
       "      <td>3246.219971</td>\n",
       "      <td>3.996900e+09</td>\n",
       "    </tr>\n",
       "    <tr>\n",
       "      <th>75%</th>\n",
       "      <td>921.000000</td>\n",
       "      <td>4074.290039</td>\n",
       "      <td>4083.419922</td>\n",
       "      <td>4033.929932</td>\n",
       "      <td>4067.360107</td>\n",
       "      <td>4067.360107</td>\n",
       "      <td>4.687320e+09</td>\n",
       "    </tr>\n",
       "    <tr>\n",
       "      <th>max</th>\n",
       "      <td>1228.000000</td>\n",
       "      <td>4804.509766</td>\n",
       "      <td>4818.620117</td>\n",
       "      <td>4780.040039</td>\n",
       "      <td>4796.560059</td>\n",
       "      <td>4796.560059</td>\n",
       "      <td>9.976520e+09</td>\n",
       "    </tr>\n",
       "  </tbody>\n",
       "</table>\n",
       "</div>"
      ],
      "text/plain": [
       "        Unnamed: 0         open         high          low        close  \\\n",
       "count  1229.000000  1229.000000  1229.000000  1229.000000  1229.000000   \n",
       "mean    614.000000  3437.767981  3458.883555  3414.612938  3437.854352   \n",
       "std     354.926049   672.382944   675.864967   668.834080   672.511442   \n",
       "min       0.000000  2290.709961  2300.729980  2191.860107  2237.399902   \n",
       "25%     307.000000  2836.699951  2852.419922  2820.429932  2839.250000   \n",
       "50%     614.000000  3240.090088  3259.810059  3227.199951  3246.219971   \n",
       "75%     921.000000  4074.290039  4083.419922  4033.929932  4067.360107   \n",
       "max    1228.000000  4804.509766  4818.620117  4780.040039  4796.560059   \n",
       "\n",
       "         adj_close        volume  \n",
       "count  1229.000000  1.229000e+03  \n",
       "mean   3437.854352  4.235175e+09  \n",
       "std     672.511442  1.083341e+09  \n",
       "min    2237.399902  1.296530e+09  \n",
       "25%    2839.250000  3.523520e+09  \n",
       "50%    3246.219971  3.996900e+09  \n",
       "75%    4067.360107  4.687320e+09  \n",
       "max    4796.560059  9.976520e+09  "
      ]
     },
     "execution_count": 14,
     "metadata": {},
     "output_type": "execute_result"
    }
   ],
   "source": [
    "df_exemplo.describe()"
   ]
  },
  {
   "cell_type": "code",
   "execution_count": 15,
   "id": "413f0f80",
   "metadata": {},
   "outputs": [
    {
     "name": "stdout",
     "output_type": "stream",
     "text": [
      "<class 'pandas.core.frame.DataFrame'>\n",
      "RangeIndex: 1229 entries, 0 to 1228\n",
      "Data columns (total 9 columns):\n",
      " #   Column      Non-Null Count  Dtype  \n",
      "---  ------      --------------  -----  \n",
      " 0   Unnamed: 0  1229 non-null   int64  \n",
      " 1   date        1229 non-null   object \n",
      " 2   open        1229 non-null   float64\n",
      " 3   high        1229 non-null   float64\n",
      " 4   low         1229 non-null   float64\n",
      " 5   close       1229 non-null   float64\n",
      " 6   adj_close   1229 non-null   float64\n",
      " 7   volume      1229 non-null   int64  \n",
      " 8   symbol      1229 non-null   object \n",
      "dtypes: float64(5), int64(2), object(2)\n",
      "memory usage: 86.5+ KB\n"
     ]
    }
   ],
   "source": [
    "df_exemplo.info()"
   ]
  },
  {
   "cell_type": "code",
   "execution_count": 16,
   "id": "a98bacff",
   "metadata": {},
   "outputs": [
    {
     "name": "stderr",
     "output_type": "stream",
     "text": [
      "                                                                                \r"
     ]
    }
   ],
   "source": [
    "# Read a CSV file and create a DataFrame\n",
    "df_spx=spark.read.option(\"header\",\"true\").csv('./data/spx500.csv',inferSchema=True)\n"
   ]
  },
  {
   "cell_type": "code",
   "execution_count": 22,
   "id": "28950871",
   "metadata": {},
   "outputs": [
    {
     "name": "stderr",
     "output_type": "stream",
     "text": [
      "24/04/26 20:19:03 WARN CSVHeaderChecker: CSV header does not conform to the schema.\n",
      " Header: , date, open, high, low, close, adj_close, volume, symbol\n",
      " Schema: _c0, date, open, high, low, close, adj_close, volume, symbol\n",
      "Expected: _c0 but found: \n",
      "CSV file: file:///mnt/g/My%20Drive/mestrados/big_data/exemplos/data/spx500.csv\n"
     ]
    },
    {
     "data": {
      "text/html": [
       "<div>\n",
       "<style scoped>\n",
       "    .dataframe tbody tr th:only-of-type {\n",
       "        vertical-align: middle;\n",
       "    }\n",
       "\n",
       "    .dataframe tbody tr th {\n",
       "        vertical-align: top;\n",
       "    }\n",
       "\n",
       "    .dataframe thead th {\n",
       "        text-align: right;\n",
       "    }\n",
       "</style>\n",
       "<table border=\"1\" class=\"dataframe\">\n",
       "  <thead>\n",
       "    <tr style=\"text-align: right;\">\n",
       "      <th></th>\n",
       "      <th>_c0</th>\n",
       "      <th>date</th>\n",
       "      <th>open</th>\n",
       "      <th>high</th>\n",
       "      <th>low</th>\n",
       "      <th>close</th>\n",
       "      <th>adj_close</th>\n",
       "      <th>volume</th>\n",
       "      <th>symbol</th>\n",
       "    </tr>\n",
       "  </thead>\n",
       "  <tbody>\n",
       "    <tr>\n",
       "      <th>0</th>\n",
       "      <td>2</td>\n",
       "      <td>2018-01-04</td>\n",
       "      <td>2719.310059</td>\n",
       "      <td>2729.290039</td>\n",
       "      <td>2719.070068</td>\n",
       "      <td>2723.989990</td>\n",
       "      <td>2723.989990</td>\n",
       "      <td>3697340000</td>\n",
       "      <td>^GSPC</td>\n",
       "    </tr>\n",
       "    <tr>\n",
       "      <th>1</th>\n",
       "      <td>5</td>\n",
       "      <td>2018-01-09</td>\n",
       "      <td>2751.149902</td>\n",
       "      <td>2759.139893</td>\n",
       "      <td>2747.860107</td>\n",
       "      <td>2751.290039</td>\n",
       "      <td>2751.290039</td>\n",
       "      <td>3467460000</td>\n",
       "      <td>^GSPC</td>\n",
       "    </tr>\n",
       "    <tr>\n",
       "      <th>2</th>\n",
       "      <td>16</td>\n",
       "      <td>2018-01-25</td>\n",
       "      <td>2846.239990</td>\n",
       "      <td>2848.560059</td>\n",
       "      <td>2830.939941</td>\n",
       "      <td>2839.250000</td>\n",
       "      <td>2839.250000</td>\n",
       "      <td>3873100000</td>\n",
       "      <td>^GSPC</td>\n",
       "    </tr>\n",
       "    <tr>\n",
       "      <th>3</th>\n",
       "      <td>17</td>\n",
       "      <td>2018-01-26</td>\n",
       "      <td>2847.479980</td>\n",
       "      <td>2872.870117</td>\n",
       "      <td>2846.179932</td>\n",
       "      <td>2872.870117</td>\n",
       "      <td>2872.870117</td>\n",
       "      <td>3474680000</td>\n",
       "      <td>^GSPC</td>\n",
       "    </tr>\n",
       "    <tr>\n",
       "      <th>4</th>\n",
       "      <td>24</td>\n",
       "      <td>2018-02-06</td>\n",
       "      <td>2614.780029</td>\n",
       "      <td>2701.040039</td>\n",
       "      <td>2593.070068</td>\n",
       "      <td>2695.139893</td>\n",
       "      <td>2695.139893</td>\n",
       "      <td>5917350000</td>\n",
       "      <td>^GSPC</td>\n",
       "    </tr>\n",
       "  </tbody>\n",
       "</table>\n",
       "</div>"
      ],
      "text/plain": [
       "   _c0        date         open         high          low        close  \\\n",
       "0    2  2018-01-04  2719.310059  2729.290039  2719.070068  2723.989990   \n",
       "1    5  2018-01-09  2751.149902  2759.139893  2747.860107  2751.290039   \n",
       "2   16  2018-01-25  2846.239990  2848.560059  2830.939941  2839.250000   \n",
       "3   17  2018-01-26  2847.479980  2872.870117  2846.179932  2872.870117   \n",
       "4   24  2018-02-06  2614.780029  2701.040039  2593.070068  2695.139893   \n",
       "\n",
       "     adj_close      volume symbol  \n",
       "0  2723.989990  3697340000  ^GSPC  \n",
       "1  2751.290039  3467460000  ^GSPC  \n",
       "2  2839.250000  3873100000  ^GSPC  \n",
       "3  2872.870117  3474680000  ^GSPC  \n",
       "4  2695.139893  5917350000  ^GSPC  "
      ]
     },
     "execution_count": 22,
     "metadata": {},
     "output_type": "execute_result"
    }
   ],
   "source": [
    "df_spx.sample(fraction=0.1).toPandas().head()"
   ]
  },
  {
   "cell_type": "code",
   "execution_count": 24,
   "id": "af40dde7",
   "metadata": {},
   "outputs": [
    {
     "name": "stdout",
     "output_type": "stream",
     "text": [
      "+---+----------+----------------+----------------+----------------+----------------+----------------+----------+------+\n",
      "|_c0|      date|            open|            high|             low|           close|       adj_close|    volume|symbol|\n",
      "+---+----------+----------------+----------------+----------------+----------------+----------------+----------+------+\n",
      "|  0|2018-01-02|2683.72998046875|2695.88989257812|2682.36010742187|2695.81005859375|2695.81005859375|3397430000| ^GSPC|\n",
      "|  1|2018-01-03|2697.85009765625| 2714.3701171875|2697.77001953125|2713.06005859375|2713.06005859375|3544030000| ^GSPC|\n",
      "|  2|2018-01-04|2719.31005859375| 2729.2900390625|2719.07006835937|2723.98999023437|2723.98999023437|3697340000| ^GSPC|\n",
      "|  3|2018-01-05|  2731.330078125|2743.44995117187|  2727.919921875|2743.14990234375|2743.14990234375|3239280000| ^GSPC|\n",
      "|  4|2018-01-08|  2742.669921875|2748.51000976563|2737.60009765625| 2747.7099609375| 2747.7099609375|3246160000| ^GSPC|\n",
      "+---+----------+----------------+----------------+----------------+----------------+----------------+----------+------+\n",
      "only showing top 5 rows\n",
      "\n"
     ]
    },
    {
     "name": "stderr",
     "output_type": "stream",
     "text": [
      "24/04/26 20:20:25 WARN CSVHeaderChecker: CSV header does not conform to the schema.\n",
      " Header: , date, open, high, low, close, adj_close, volume, symbol\n",
      " Schema: _c0, date, open, high, low, close, adj_close, volume, symbol\n",
      "Expected: _c0 but found: \n",
      "CSV file: file:///mnt/g/My%20Drive/mestrados/big_data/exemplos/data/spx500.csv\n"
     ]
    }
   ],
   "source": [
    "df_spx.show(5)"
   ]
  },
  {
   "cell_type": "code",
   "execution_count": 25,
   "id": "647cd8e8",
   "metadata": {},
   "outputs": [
    {
     "name": "stderr",
     "output_type": "stream",
     "text": [
      "24/04/26 20:21:31 WARN CSVHeaderChecker: CSV header does not conform to the schema.\n",
      " Header: , date, open, high, low, close, adj_close, volume, symbol\n",
      " Schema: _c0, date, open, high, low, close, adj_close, volume, symbol\n",
      "Expected: _c0 but found: \n",
      "CSV file: file:///mnt/g/My%20Drive/mestrados/big_data/exemplos/data/spx500.csv\n"
     ]
    },
    {
     "data": {
      "text/plain": [
       "[Row(_c0=1224, date=datetime.date(2022, 11, 10), open=3859.88989257812, high=3958.330078125, low=3859.88989257812, close=3956.3701171875, adj_close=3956.3701171875, volume=5781260000, symbol='^GSPC'),\n",
       " Row(_c0=1225, date=datetime.date(2022, 11, 11), open=3963.71997070313, high=4001.47998046875, low=3944.82006835938, close=3992.92993164062, adj_close=3992.92993164062, volume=5593310000, symbol='^GSPC'),\n",
       " Row(_c0=1226, date=datetime.date(2022, 11, 14), open=3977.96997070312, high=4008.96997070313, low=3956.39990234375, close=3957.25, adj_close=3957.25, volume=4561930000, symbol='^GSPC'),\n",
       " Row(_c0=1227, date=datetime.date(2022, 11, 15), open=4006.40991210938, high=4028.84008789063, low=3953.169921875, close=3991.72998046875, adj_close=3991.72998046875, volume=5015310000, symbol='^GSPC'),\n",
       " Row(_c0=1228, date=datetime.date(2022, 11, 16), open=3976.82006835938, high=3983.09008789062, low=3954.34008789063, close=3958.7900390625, adj_close=3958.7900390625, volume=2377496000, symbol='^GSPC')]"
      ]
     },
     "execution_count": 25,
     "metadata": {},
     "output_type": "execute_result"
    }
   ],
   "source": [
    "df_spx.tail(5)"
   ]
  },
  {
   "cell_type": "code",
   "execution_count": 28,
   "id": "57dea313",
   "metadata": {},
   "outputs": [
    {
     "data": {
      "text/plain": [
       "pyspark.sql.dataframe.DataFrame"
      ]
     },
     "execution_count": 28,
     "metadata": {},
     "output_type": "execute_result"
    }
   ],
   "source": [
    "type(df_spx)"
   ]
  },
  {
   "cell_type": "code",
   "execution_count": 14,
   "id": "f09ec437",
   "metadata": {},
   "outputs": [
    {
     "name": "stdout",
     "output_type": "stream",
     "text": [
      "+----------+----------------+\n",
      "|      date|           close|\n",
      "+----------+----------------+\n",
      "|2018-01-02|2695.81005859375|\n",
      "|2018-01-03|2713.06005859375|\n",
      "|2018-01-04|2723.98999023437|\n",
      "|2018-01-05|2743.14990234375|\n",
      "|2018-01-08| 2747.7099609375|\n",
      "|2018-01-09| 2751.2900390625|\n",
      "|2018-01-10|2748.22998046875|\n",
      "|2018-01-11|2767.56005859375|\n",
      "|2018-01-12|2786.23999023437|\n",
      "|2018-01-16|  2776.419921875|\n",
      "|2018-01-17|2802.56005859375|\n",
      "|2018-01-18|2798.03002929687|\n",
      "|2018-01-19|2810.30004882812|\n",
      "|2018-01-22|2832.96997070312|\n",
      "|2018-01-23| 2839.1298828125|\n",
      "|2018-01-24| 2837.5400390625|\n",
      "|2018-01-25|         2839.25|\n",
      "|2018-01-26| 2872.8701171875|\n",
      "|2018-01-29|2853.53002929687|\n",
      "|2018-01-30|2822.42993164063|\n",
      "+----------+----------------+\n",
      "only showing top 20 rows\n",
      "\n"
     ]
    }
   ],
   "source": [
    "# Show the first 10 rows of the DataFrame\n",
    "df_spx[['date','close']].show()"
   ]
  },
  {
   "cell_type": "code",
   "execution_count": 31,
   "id": "acb66b8b",
   "metadata": {},
   "outputs": [
    {
     "name": "stderr",
     "output_type": "stream",
     "text": [
      "24/04/26 20:24:12 WARN CSVHeaderChecker: CSV header does not conform to the schema.\n",
      " Header: , date, open, high, low, close, adj_close, volume, symbol\n",
      " Schema: _c0, date, open, high, low, close, adj_close, volume, symbol\n",
      "Expected: _c0 but found: \n",
      "CSV file: file:///mnt/g/My%20Drive/mestrados/big_data/exemplos/data/spx500.csv\n"
     ]
    },
    {
     "data": {
      "text/plain": [
       "[Row(_c0=0, date=datetime.date(2018, 1, 2), open=2683.72998046875, high=2695.88989257812, low=2682.36010742187, close=2695.81005859375, adj_close=2695.81005859375, volume=3397430000, symbol='^GSPC'),\n",
       " Row(_c0=1, date=datetime.date(2018, 1, 3), open=2697.85009765625, high=2714.3701171875, low=2697.77001953125, close=2713.06005859375, adj_close=2713.06005859375, volume=3544030000, symbol='^GSPC'),\n",
       " Row(_c0=2, date=datetime.date(2018, 1, 4), open=2719.31005859375, high=2729.2900390625, low=2719.07006835937, close=2723.98999023437, adj_close=2723.98999023437, volume=3697340000, symbol='^GSPC'),\n",
       " Row(_c0=3, date=datetime.date(2018, 1, 5), open=2731.330078125, high=2743.44995117187, low=2727.919921875, close=2743.14990234375, adj_close=2743.14990234375, volume=3239280000, symbol='^GSPC')]"
      ]
     },
     "execution_count": 31,
     "metadata": {},
     "output_type": "execute_result"
    }
   ],
   "source": [
    "df_spx.take(4)"
   ]
  },
  {
   "cell_type": "code",
   "execution_count": 33,
   "id": "53729e76",
   "metadata": {},
   "outputs": [
    {
     "name": "stderr",
     "output_type": "stream",
     "text": [
      "24/04/26 20:26:07 WARN CSVHeaderChecker: CSV header does not conform to the schema.\n",
      " Header: , open, high, low, close, adj_close, volume, symbol\n",
      " Schema: _c0, open, high, low, close, adj_close, volume, symbol\n",
      "Expected: _c0 but found: \n",
      "CSV file: file:///mnt/g/My%20Drive/mestrados/big_data/exemplos/data/spx500.csv\n"
     ]
    },
    {
     "data": {
      "text/html": [
       "<div>\n",
       "<style scoped>\n",
       "    .dataframe tbody tr th:only-of-type {\n",
       "        vertical-align: middle;\n",
       "    }\n",
       "\n",
       "    .dataframe tbody tr th {\n",
       "        vertical-align: top;\n",
       "    }\n",
       "\n",
       "    .dataframe thead th {\n",
       "        text-align: right;\n",
       "    }\n",
       "</style>\n",
       "<table border=\"1\" class=\"dataframe\">\n",
       "  <thead>\n",
       "    <tr style=\"text-align: right;\">\n",
       "      <th></th>\n",
       "      <th>summary</th>\n",
       "      <th>_c0</th>\n",
       "      <th>open</th>\n",
       "      <th>high</th>\n",
       "      <th>low</th>\n",
       "      <th>close</th>\n",
       "      <th>adj_close</th>\n",
       "      <th>volume</th>\n",
       "      <th>symbol</th>\n",
       "    </tr>\n",
       "  </thead>\n",
       "  <tbody>\n",
       "    <tr>\n",
       "      <th>0</th>\n",
       "      <td>count</td>\n",
       "      <td>1229</td>\n",
       "      <td>1229</td>\n",
       "      <td>1229</td>\n",
       "      <td>1229</td>\n",
       "      <td>1229</td>\n",
       "      <td>1229</td>\n",
       "      <td>1229</td>\n",
       "      <td>1229</td>\n",
       "    </tr>\n",
       "    <tr>\n",
       "      <th>1</th>\n",
       "      <td>mean</td>\n",
       "      <td>614.0</td>\n",
       "      <td>3437.767980589529</td>\n",
       "      <td>3458.883554655716</td>\n",
       "      <td>3414.612937585817</td>\n",
       "      <td>3437.854352338029</td>\n",
       "      <td>3437.854352338029</td>\n",
       "      <td>4.235175114727421E9</td>\n",
       "      <td>None</td>\n",
       "    </tr>\n",
       "    <tr>\n",
       "      <th>2</th>\n",
       "      <td>stddev</td>\n",
       "      <td>354.9260486354869</td>\n",
       "      <td>672.3829441726768</td>\n",
       "      <td>675.8649665978218</td>\n",
       "      <td>668.8340795160047</td>\n",
       "      <td>672.5114423670053</td>\n",
       "      <td>672.5114423670053</td>\n",
       "      <td>1.0833411150490143E9</td>\n",
       "      <td>None</td>\n",
       "    </tr>\n",
       "    <tr>\n",
       "      <th>3</th>\n",
       "      <td>min</td>\n",
       "      <td>0</td>\n",
       "      <td>2290.7099609375</td>\n",
       "      <td>2300.72998046875</td>\n",
       "      <td>2191.86010742187</td>\n",
       "      <td>2237.39990234375</td>\n",
       "      <td>2237.39990234375</td>\n",
       "      <td>1296530000</td>\n",
       "      <td>^GSPC</td>\n",
       "    </tr>\n",
       "    <tr>\n",
       "      <th>4</th>\n",
       "      <td>max</td>\n",
       "      <td>1228</td>\n",
       "      <td>4804.509765625</td>\n",
       "      <td>4818.6201171875</td>\n",
       "      <td>4780.0400390625</td>\n",
       "      <td>4796.56005859375</td>\n",
       "      <td>4796.56005859375</td>\n",
       "      <td>9976520000</td>\n",
       "      <td>^GSPC</td>\n",
       "    </tr>\n",
       "  </tbody>\n",
       "</table>\n",
       "</div>"
      ],
      "text/plain": [
       "  summary                _c0               open               high  \\\n",
       "0   count               1229               1229               1229   \n",
       "1    mean              614.0  3437.767980589529  3458.883554655716   \n",
       "2  stddev  354.9260486354869  672.3829441726768  675.8649665978218   \n",
       "3     min                  0    2290.7099609375   2300.72998046875   \n",
       "4     max               1228     4804.509765625    4818.6201171875   \n",
       "\n",
       "                 low              close          adj_close  \\\n",
       "0               1229               1229               1229   \n",
       "1  3414.612937585817  3437.854352338029  3437.854352338029   \n",
       "2  668.8340795160047  672.5114423670053  672.5114423670053   \n",
       "3   2191.86010742187   2237.39990234375   2237.39990234375   \n",
       "4    4780.0400390625   4796.56005859375   4796.56005859375   \n",
       "\n",
       "                 volume symbol  \n",
       "0                  1229   1229  \n",
       "1   4.235175114727421E9   None  \n",
       "2  1.0833411150490143E9   None  \n",
       "3            1296530000  ^GSPC  \n",
       "4            9976520000  ^GSPC  "
      ]
     },
     "execution_count": 33,
     "metadata": {},
     "output_type": "execute_result"
    }
   ],
   "source": [
    "df_spx.describe().toPandas()"
   ]
  },
  {
   "cell_type": "code",
   "execution_count": 34,
   "id": "9d2d6141",
   "metadata": {},
   "outputs": [
    {
     "name": "stderr",
     "output_type": "stream",
     "text": [
      "24/04/26 20:27:25 WARN CSVHeaderChecker: CSV header does not conform to the schema.\n",
      " Header: , date, open, high, low, close, adj_close, volume, symbol\n",
      " Schema: _c0, date, open, high, low, close, adj_close, volume, symbol\n",
      "Expected: _c0 but found: \n",
      "CSV file: file:///mnt/g/My%20Drive/mestrados/big_data/exemplos/data/spx500.csv\n"
     ]
    },
    {
     "data": {
      "text/plain": [
       "[Row(_c0=0, date=datetime.date(2018, 1, 2), open=2683.72998046875, high=2695.88989257812, low=2682.36010742187, close=2695.81005859375, adj_close=2695.81005859375, volume=3397430000, symbol='^GSPC')]"
      ]
     },
     "execution_count": 34,
     "metadata": {},
     "output_type": "execute_result"
    }
   ],
   "source": [
    "df_spx.take(1)"
   ]
  },
  {
   "cell_type": "code",
   "execution_count": 37,
   "id": "1a6b1fb0",
   "metadata": {},
   "outputs": [
    {
     "name": "stdout",
     "output_type": "stream",
     "text": [
      "== Physical Plan ==\n",
      "FileScan csv [_c0#17,date#18,open#19,high#20,low#21,close#22,adj_close#23,volume#24L,symbol#25] Batched: false, DataFilters: [], Format: CSV, Location: InMemoryFileIndex(1 paths)[file:/mnt/g/My Drive/mestrados/big_data/exemplos/data/spx500.csv], PartitionFilters: [], PushedFilters: [], ReadSchema: struct<_c0:int,date:date,open:double,high:double,low:double,close:double,adj_close:double,volume:...\n",
      "\n",
      "\n",
      "None\n"
     ]
    }
   ],
   "source": [
    "df_spx.explain()"
   ]
  },
  {
   "cell_type": "markdown",
   "id": "5a2fc6b6",
   "metadata": {},
   "source": [
    "# Vamos criar uma vista temporária para os dados para pudermos utilizar num comando SQL"
   ]
  },
  {
   "cell_type": "code",
   "execution_count": 38,
   "id": "be6c2e38",
   "metadata": {},
   "outputs": [],
   "source": [
    "df_spx.createOrReplaceTempView(\"xico\")"
   ]
  },
  {
   "cell_type": "markdown",
   "id": "0d697072",
   "metadata": {},
   "source": [
    "# Vamos confirmar as vistas criadas"
   ]
  },
  {
   "cell_type": "code",
   "execution_count": 39,
   "id": "186c14c1",
   "metadata": {},
   "outputs": [
    {
     "data": {
      "text/plain": [
       "[Table(name='xico', catalog=None, namespace=[], description=None, tableType='TEMPORARY', isTemporary=True)]"
      ]
     },
     "execution_count": 39,
     "metadata": {},
     "output_type": "execute_result"
    }
   ],
   "source": [
    "spark.catalog.listTables()"
   ]
  },
  {
   "cell_type": "code",
   "execution_count": 44,
   "id": "5ea01a53",
   "metadata": {},
   "outputs": [],
   "source": [
    "sql = spark.sql(\"\"\" SELECT * FROM xico where close > 4700\"\"\")"
   ]
  },
  {
   "cell_type": "code",
   "execution_count": 45,
   "id": "a84d163e",
   "metadata": {},
   "outputs": [
    {
     "name": "stdout",
     "output_type": "stream",
     "text": [
      "+----+----------+----------------+----------------+----------------+----------------+----------------+----------+------+\n",
      "| _c0|      date|            open|            high|             low|           close|       adj_close|    volume|symbol|\n",
      "+----+----------+----------------+----------------+----------------+----------------+----------------+----------+------+\n",
      "| 970|2021-11-08|4701.47998046875|  4714.919921875|4694.39013671875| 4701.7001953125| 4701.7001953125|4269710000| ^GSPC|\n",
      "| 976|2021-11-16|  4679.419921875| 4714.9501953125|  4679.419921875|4700.89990234375|4700.89990234375|3972640000| ^GSPC|\n",
      "| 978|2021-11-18|4700.72021484375| 4708.7998046875|4672.77978515625| 4704.5400390625| 4704.5400390625|4226410000| ^GSPC|\n",
      "| 982|2021-11-24|4675.77978515625| 4702.8701171875|4659.89013671875| 4701.4599609375| 4701.4599609375|3418430000| ^GSPC|\n",
      "| 991|2021-12-08|4690.85986328125|4705.06005859375|4674.52001953125| 4701.2099609375| 4701.2099609375|4234600000| ^GSPC|\n",
      "| 993|2021-12-10|4687.64013671875|4713.56982421875|  4670.240234375|4712.02001953125|4712.02001953125|3870110000| ^GSPC|\n",
      "| 996|2021-12-15| 4636.4599609375|4712.60009765625|4611.22021484375|4709.85009765625|4709.85009765625|4910130000| ^GSPC|\n",
      "|1002|2021-12-23| 4703.9599609375|  4740.740234375| 4703.9599609375| 4725.7900390625| 4725.7900390625|2913040000| ^GSPC|\n",
      "|1003|2021-12-27|  4733.990234375|  4791.490234375|  4733.990234375|4791.18994140625|4791.18994140625|2770290000| ^GSPC|\n",
      "|1004|2021-12-28|  4795.490234375|4807.02001953125| 4780.0400390625|4786.35009765625|4786.35009765625|2707920000| ^GSPC|\n",
      "|1005|2021-12-29|4788.64013671875|4804.06005859375|  4778.080078125|4793.06005859375|4793.06005859375|2963310000| ^GSPC|\n",
      "|1006|2021-12-30|4794.22998046875|4808.93017578125|  4775.330078125|4778.72998046875|4778.72998046875|3124950000| ^GSPC|\n",
      "|1007|2021-12-31| 4775.2099609375|  4786.830078125|         4765.75|4766.18017578125|4766.18017578125|2677820000| ^GSPC|\n",
      "|1008|2022-01-03|4778.14013671875|4796.64013671875|  4758.169921875|4796.56005859375|4796.56005859375|3831020000| ^GSPC|\n",
      "|1009|2022-01-04|  4804.509765625| 4818.6201171875|4774.27001953125| 4793.5400390625| 4793.5400390625|4683170000| ^GSPC|\n",
      "|1010|2022-01-05|  4787.990234375| 4797.7001953125|4699.43994140625|  4700.580078125|  4700.580078125|4887960000| ^GSPC|\n",
      "|1014|2022-01-11|4669.14013671875| 4714.1298828125|4638.27001953125|4713.06982421875|4713.06982421875|4101590000| ^GSPC|\n",
      "|1015|2022-01-12|   4728.58984375|  4748.830078125| 4706.7099609375|4726.35009765625|4726.35009765625|4048220000| ^GSPC|\n",
      "+----+----------+----------------+----------------+----------------+----------------+----------------+----------+------+\n",
      "\n"
     ]
    },
    {
     "name": "stderr",
     "output_type": "stream",
     "text": [
      "24/04/26 20:36:15 WARN CSVHeaderChecker: CSV header does not conform to the schema.\n",
      " Header: , date, open, high, low, close, adj_close, volume, symbol\n",
      " Schema: _c0, date, open, high, low, close, adj_close, volume, symbol\n",
      "Expected: _c0 but found: \n",
      "CSV file: file:///mnt/g/My%20Drive/mestrados/big_data/exemplos/data/spx500.csv\n"
     ]
    }
   ],
   "source": [
    "sql.show()"
   ]
  },
  {
   "attachments": {},
   "cell_type": "markdown",
   "id": "eb85bb01",
   "metadata": {},
   "source": [
    "# Adicionar uma coluna ao dataframe\n",
    "\n",
    "Vamos calcular a moving average 7 dias"
   ]
  },
  {
   "cell_type": "code",
   "execution_count": 46,
   "id": "b9ee9586",
   "metadata": {},
   "outputs": [],
   "source": [
    "from pyspark.sql.window import Window\n",
    "from pyspark.sql.functions import col, avg\n",
    "\n",
    "window = Window.partitionBy('symbol').orderBy(col('_c0')).rowsBetween(-7,0)\n",
    "df_spx = df_spx.withColumn('ma7',avg('close').over(window))"
   ]
  },
  {
   "cell_type": "code",
   "execution_count": 48,
   "id": "a9ed27e3",
   "metadata": {},
   "outputs": [
    {
     "name": "stderr",
     "output_type": "stream",
     "text": [
      "24/04/26 20:46:02 WARN CSVHeaderChecker: CSV header does not conform to the schema.\n",
      " Header: , date, open, high, low, close, adj_close, volume, symbol\n",
      " Schema: _c0, date, open, high, low, close, adj_close, volume, symbol\n",
      "Expected: _c0 but found: \n",
      "CSV file: file:///mnt/g/My%20Drive/mestrados/big_data/exemplos/data/spx500.csv\n"
     ]
    },
    {
     "name": "stdout",
     "output_type": "stream",
     "text": [
      "+---+----------+----------------+----------------+----------------+----------------+----------------+----------+------+------------------+\n",
      "|_c0|      date|            open|            high|             low|           close|       adj_close|    volume|symbol|               ma7|\n",
      "+---+----------+----------------+----------------+----------------+----------------+----------------+----------+------+------------------+\n",
      "|  0|2018-01-02|2683.72998046875|2695.88989257812|2682.36010742187|2695.81005859375|2695.81005859375|3397430000| ^GSPC|  2695.81005859375|\n",
      "|  1|2018-01-03|2697.85009765625| 2714.3701171875|2697.77001953125|2713.06005859375|2713.06005859375|3544030000| ^GSPC|  2704.43505859375|\n",
      "|  2|2018-01-04|2719.31005859375| 2729.2900390625|2719.07006835937|2723.98999023437|2723.98999023437|3697340000| ^GSPC| 2710.953369140623|\n",
      "|  3|2018-01-05|  2731.330078125|2743.44995117187|  2727.919921875|2743.14990234375|2743.14990234375|3239280000| ^GSPC| 2719.002502441405|\n",
      "|  4|2018-01-08|  2742.669921875|2748.51000976563|2737.60009765625| 2747.7099609375| 2747.7099609375|3246160000| ^GSPC|2724.7439941406237|\n",
      "|  5|2018-01-09|2751.14990234375|2759.13989257812|2747.86010742188| 2751.2900390625| 2751.2900390625|3467460000| ^GSPC|2729.1683349609366|\n",
      "|  6|2018-01-10|2745.55004882812|2750.80004882812|2736.06005859375|2748.22998046875|2748.22998046875|3579900000| ^GSPC|2731.8914271763383|\n",
      "|  7|2018-01-11|2752.96997070313|2767.56005859375|2752.78002929688|2767.56005859375|2767.56005859375|3645690000| ^GSPC|2736.3500061035147|\n",
      "|  8|2018-01-12|2770.17993164062|2787.85009765625|2769.63989257812|2786.23999023437|2786.23999023437|3587220000| ^GSPC|2747.6537475585924|\n",
      "|  9|2018-01-16| 2798.9599609375| 2807.5400390625|2768.63989257812|  2776.419921875|  2776.419921875|4362880000| ^GSPC|2755.5737304687486|\n",
      "| 10|2018-01-17|2784.98999023437| 2807.0400390625| 2778.3798828125|2802.56005859375|2802.56005859375|3790340000| ^GSPC|2765.3949890136714|\n",
      "| 11|2018-01-18|2802.39990234375|  2805.830078125|2792.56005859375|2798.03002929687|2798.03002929687|3703300000| ^GSPC| 2772.255004882811|\n",
      "| 12|2018-01-19|2802.60009765625|  2810.330078125|  2798.080078125|2810.30004882812|2810.30004882812|3724230000| ^GSPC| 2780.078765869139|\n",
      "| 13|2018-01-22|2809.15991210937|2833.03002929688| 2808.1201171875|2832.96997070312|2832.96997070312|3489480000| ^GSPC|2790.2887573242165|\n",
      "| 14|2018-01-23|2835.05004882812|2842.23999023438|2830.59008789062| 2839.1298828125| 2839.1298828125|3541140000| ^GSPC| 2801.651245117185|\n",
      "| 15|2018-01-24|  2845.419921875|2852.96997070312|2824.81005859375| 2837.5400390625| 2837.5400390625|4079270000| ^GSPC|2810.3987426757785|\n",
      "| 16|2018-01-25|2846.23999023438|2848.56005859375|2830.93994140625|         2839.25|         2839.25|3873100000| ^GSPC|2817.0249938964826|\n",
      "| 17|2018-01-26|2847.47998046875| 2872.8701171875|2846.17993164062| 2872.8701171875| 2872.8701171875|3474680000| ^GSPC| 2829.081268310545|\n",
      "| 18|2018-01-29|2867.22998046875| 2870.6201171875|2851.47998046875|2853.53002929687|2853.53002929687|3587420000| ^GSPC| 2835.452514648435|\n",
      "| 19|2018-01-30|2832.73999023437|         2837.75|2818.27001953125|2822.42993164063|2822.42993164063|4012070000| ^GSPC| 2838.502502441405|\n",
      "+---+----------+----------------+----------------+----------------+----------------+----------------+----------+------+------------------+\n",
      "only showing top 20 rows\n",
      "\n"
     ]
    }
   ],
   "source": [
    "df_spx.show()"
   ]
  },
  {
   "attachments": {},
   "cell_type": "markdown",
   "id": "c2bc37c4",
   "metadata": {},
   "source": [
    "```\n",
    "partitionBy = controla as linhas que ficam na mesma partição. Se estivermos num ambiente distribuido é importante que por exemplo os mesmos symbols sejam processados na mesmo equipamento. \n",
    "```"
   ]
  },
  {
   "attachments": {},
   "cell_type": "markdown",
   "id": "1b638ae6",
   "metadata": {},
   "source": [
    "# Vamos fazer o drop de uma coluna\n",
    "\n",
    "Para tornar a alteração assigna-se novamente ao Spark Dataframe. No pandas temos inplace=True"
   ]
  },
  {
   "cell_type": "code",
   "execution_count": 24,
   "id": "933d91c6",
   "metadata": {},
   "outputs": [
    {
     "name": "stdout",
     "output_type": "stream",
     "text": [
      "+---+----------+----------------+----------------+----------------+----------------+----------------+----------+------+\n",
      "|_c0|      date|            open|            high|             low|           close|       adj_close|    volume|symbol|\n",
      "+---+----------+----------------+----------------+----------------+----------------+----------------+----------+------+\n",
      "|  0|2018-01-02|2683.72998046875|2695.88989257812|2682.36010742187|2695.81005859375|2695.81005859375|3397430000| ^GSPC|\n",
      "|  1|2018-01-03|2697.85009765625| 2714.3701171875|2697.77001953125|2713.06005859375|2713.06005859375|3544030000| ^GSPC|\n",
      "|  2|2018-01-04|2719.31005859375| 2729.2900390625|2719.07006835937|2723.98999023437|2723.98999023437|3697340000| ^GSPC|\n",
      "|  3|2018-01-05|  2731.330078125|2743.44995117187|  2727.919921875|2743.14990234375|2743.14990234375|3239280000| ^GSPC|\n",
      "|  4|2018-01-08|  2742.669921875|2748.51000976563|2737.60009765625| 2747.7099609375| 2747.7099609375|3246160000| ^GSPC|\n",
      "|  5|2018-01-09|2751.14990234375|2759.13989257812|2747.86010742188| 2751.2900390625| 2751.2900390625|3467460000| ^GSPC|\n",
      "|  6|2018-01-10|2745.55004882812|2750.80004882812|2736.06005859375|2748.22998046875|2748.22998046875|3579900000| ^GSPC|\n",
      "|  7|2018-01-11|2752.96997070313|2767.56005859375|2752.78002929688|2767.56005859375|2767.56005859375|3645690000| ^GSPC|\n",
      "|  8|2018-01-12|2770.17993164062|2787.85009765625|2769.63989257812|2786.23999023437|2786.23999023437|3587220000| ^GSPC|\n",
      "|  9|2018-01-16| 2798.9599609375| 2807.5400390625|2768.63989257812|  2776.419921875|  2776.419921875|4362880000| ^GSPC|\n",
      "| 10|2018-01-17|2784.98999023437| 2807.0400390625| 2778.3798828125|2802.56005859375|2802.56005859375|3790340000| ^GSPC|\n",
      "| 11|2018-01-18|2802.39990234375|  2805.830078125|2792.56005859375|2798.03002929687|2798.03002929687|3703300000| ^GSPC|\n",
      "| 12|2018-01-19|2802.60009765625|  2810.330078125|  2798.080078125|2810.30004882812|2810.30004882812|3724230000| ^GSPC|\n",
      "| 13|2018-01-22|2809.15991210937|2833.03002929688| 2808.1201171875|2832.96997070312|2832.96997070312|3489480000| ^GSPC|\n",
      "| 14|2018-01-23|2835.05004882812|2842.23999023438|2830.59008789062| 2839.1298828125| 2839.1298828125|3541140000| ^GSPC|\n",
      "| 15|2018-01-24|  2845.419921875|2852.96997070312|2824.81005859375| 2837.5400390625| 2837.5400390625|4079270000| ^GSPC|\n",
      "| 16|2018-01-25|2846.23999023438|2848.56005859375|2830.93994140625|         2839.25|         2839.25|3873100000| ^GSPC|\n",
      "| 17|2018-01-26|2847.47998046875| 2872.8701171875|2846.17993164062| 2872.8701171875| 2872.8701171875|3474680000| ^GSPC|\n",
      "| 18|2018-01-29|2867.22998046875| 2870.6201171875|2851.47998046875|2853.53002929687|2853.53002929687|3587420000| ^GSPC|\n",
      "| 19|2018-01-30|2832.73999023437|         2837.75|2818.27001953125|2822.42993164063|2822.42993164063|4012070000| ^GSPC|\n",
      "+---+----------+----------------+----------------+----------------+----------------+----------------+----------+------+\n",
      "only showing top 20 rows\n",
      "\n"
     ]
    },
    {
     "name": "stderr",
     "output_type": "stream",
     "text": [
      "24/04/26 11:59:22 WARN CSVHeaderChecker: CSV header does not conform to the schema.\n",
      " Header: , date, open, high, low, close, adj_close, volume, symbol\n",
      " Schema: _c0, date, open, high, low, close, adj_close, volume, symbol\n",
      "Expected: _c0 but found: \n",
      "CSV file: file:///mnt/g/My%20Drive/mestrados/big_data/exemplos/data/spx500.csv\n"
     ]
    }
   ],
   "source": [
    "df_spx.drop('ma7').show()"
   ]
  },
  {
   "attachments": {},
   "cell_type": "markdown",
   "id": "ae99540d",
   "metadata": {},
   "source": [
    "# Mudar o nome a uma coluna"
   ]
  },
  {
   "cell_type": "code",
   "execution_count": 59,
   "id": "9812c99e",
   "metadata": {},
   "outputs": [
    {
     "name": "stdout",
     "output_type": "stream",
     "text": [
      "+---+----------+----------------+----------------+----------------+----------------+----------------+----------+------+------------------+\n",
      "|_c0|      date|            open|            high|             low|           close|       adj_close|    volume|symbol|  moving_average_7|\n",
      "+---+----------+----------------+----------------+----------------+----------------+----------------+----------+------+------------------+\n",
      "|  0|2018-01-02|2683.72998046875|2695.88989257812|2682.36010742187|2695.81005859375|2695.81005859375|3397430000| ^GSPC|  2695.81005859375|\n",
      "|  1|2018-01-03|2697.85009765625| 2714.3701171875|2697.77001953125|2713.06005859375|2713.06005859375|3544030000| ^GSPC|  2704.43505859375|\n",
      "|  2|2018-01-04|2719.31005859375| 2729.2900390625|2719.07006835937|2723.98999023437|2723.98999023437|3697340000| ^GSPC| 2710.953369140623|\n",
      "|  3|2018-01-05|  2731.330078125|2743.44995117187|  2727.919921875|2743.14990234375|2743.14990234375|3239280000| ^GSPC| 2719.002502441405|\n",
      "|  4|2018-01-08|  2742.669921875|2748.51000976563|2737.60009765625| 2747.7099609375| 2747.7099609375|3246160000| ^GSPC|2724.7439941406237|\n",
      "|  5|2018-01-09|2751.14990234375|2759.13989257812|2747.86010742188| 2751.2900390625| 2751.2900390625|3467460000| ^GSPC|2729.1683349609366|\n",
      "|  6|2018-01-10|2745.55004882812|2750.80004882812|2736.06005859375|2748.22998046875|2748.22998046875|3579900000| ^GSPC|2731.8914271763383|\n",
      "|  7|2018-01-11|2752.96997070313|2767.56005859375|2752.78002929688|2767.56005859375|2767.56005859375|3645690000| ^GSPC|2736.3500061035147|\n",
      "|  8|2018-01-12|2770.17993164062|2787.85009765625|2769.63989257812|2786.23999023437|2786.23999023437|3587220000| ^GSPC|2747.6537475585924|\n",
      "|  9|2018-01-16| 2798.9599609375| 2807.5400390625|2768.63989257812|  2776.419921875|  2776.419921875|4362880000| ^GSPC|2755.5737304687486|\n",
      "| 10|2018-01-17|2784.98999023437| 2807.0400390625| 2778.3798828125|2802.56005859375|2802.56005859375|3790340000| ^GSPC|2765.3949890136714|\n",
      "| 11|2018-01-18|2802.39990234375|  2805.830078125|2792.56005859375|2798.03002929687|2798.03002929687|3703300000| ^GSPC| 2772.255004882811|\n",
      "| 12|2018-01-19|2802.60009765625|  2810.330078125|  2798.080078125|2810.30004882812|2810.30004882812|3724230000| ^GSPC| 2780.078765869139|\n",
      "| 13|2018-01-22|2809.15991210937|2833.03002929688| 2808.1201171875|2832.96997070312|2832.96997070312|3489480000| ^GSPC|2790.2887573242165|\n",
      "| 14|2018-01-23|2835.05004882812|2842.23999023438|2830.59008789062| 2839.1298828125| 2839.1298828125|3541140000| ^GSPC| 2801.651245117185|\n",
      "| 15|2018-01-24|  2845.419921875|2852.96997070312|2824.81005859375| 2837.5400390625| 2837.5400390625|4079270000| ^GSPC|2810.3987426757785|\n",
      "| 16|2018-01-25|2846.23999023438|2848.56005859375|2830.93994140625|         2839.25|         2839.25|3873100000| ^GSPC|2817.0249938964826|\n",
      "| 17|2018-01-26|2847.47998046875| 2872.8701171875|2846.17993164062| 2872.8701171875| 2872.8701171875|3474680000| ^GSPC| 2829.081268310545|\n",
      "| 18|2018-01-29|2867.22998046875| 2870.6201171875|2851.47998046875|2853.53002929687|2853.53002929687|3587420000| ^GSPC| 2835.452514648435|\n",
      "| 19|2018-01-30|2832.73999023437|         2837.75|2818.27001953125|2822.42993164063|2822.42993164063|4012070000| ^GSPC| 2838.502502441405|\n",
      "+---+----------+----------------+----------------+----------------+----------------+----------------+----------+------+------------------+\n",
      "only showing top 20 rows\n",
      "\n"
     ]
    },
    {
     "name": "stderr",
     "output_type": "stream",
     "text": [
      "24/04/26 20:51:57 WARN CSVHeaderChecker: CSV header does not conform to the schema.\n",
      " Header: , date, open, high, low, close, adj_close, volume, symbol\n",
      " Schema: _c0, date, open, high, low, close, adj_close, volume, symbol\n",
      "Expected: _c0 but found: \n",
      "CSV file: file:///mnt/g/My%20Drive/mestrados/big_data/exemplos/data/spx500.csv\n"
     ]
    }
   ],
   "source": [
    "df_spx.withColumnRenamed('ma7','moving_average_7').show()"
   ]
  },
  {
   "cell_type": "code",
   "execution_count": 56,
   "id": "d444f5b7",
   "metadata": {},
   "outputs": [],
   "source": [
    "df_spx = df_spx.withColumnRenamed('ma7','moving_average_7')"
   ]
  },
  {
   "cell_type": "code",
   "execution_count": 57,
   "id": "1848ffa6",
   "metadata": {},
   "outputs": [
    {
     "name": "stdout",
     "output_type": "stream",
     "text": [
      "+---+----------+----------------+----------------+----------------+----------------+----------------+----------+------+------------------+\n",
      "|_c0|      date|            open|            high|             low|           close|       adj_close|    volume|symbol|  moving_average_7|\n",
      "+---+----------+----------------+----------------+----------------+----------------+----------------+----------+------+------------------+\n",
      "|  0|2018-01-02|2683.72998046875|2695.88989257812|2682.36010742187|2695.81005859375|2695.81005859375|3397430000| ^GSPC|  2695.81005859375|\n",
      "|  1|2018-01-03|2697.85009765625| 2714.3701171875|2697.77001953125|2713.06005859375|2713.06005859375|3544030000| ^GSPC|  2704.43505859375|\n",
      "|  2|2018-01-04|2719.31005859375| 2729.2900390625|2719.07006835937|2723.98999023437|2723.98999023437|3697340000| ^GSPC| 2710.953369140623|\n",
      "|  3|2018-01-05|  2731.330078125|2743.44995117187|  2727.919921875|2743.14990234375|2743.14990234375|3239280000| ^GSPC| 2719.002502441405|\n",
      "|  4|2018-01-08|  2742.669921875|2748.51000976563|2737.60009765625| 2747.7099609375| 2747.7099609375|3246160000| ^GSPC|2724.7439941406237|\n",
      "|  5|2018-01-09|2751.14990234375|2759.13989257812|2747.86010742188| 2751.2900390625| 2751.2900390625|3467460000| ^GSPC|2729.1683349609366|\n",
      "|  6|2018-01-10|2745.55004882812|2750.80004882812|2736.06005859375|2748.22998046875|2748.22998046875|3579900000| ^GSPC|2731.8914271763383|\n",
      "|  7|2018-01-11|2752.96997070313|2767.56005859375|2752.78002929688|2767.56005859375|2767.56005859375|3645690000| ^GSPC|2736.3500061035147|\n",
      "|  8|2018-01-12|2770.17993164062|2787.85009765625|2769.63989257812|2786.23999023437|2786.23999023437|3587220000| ^GSPC|2747.6537475585924|\n",
      "|  9|2018-01-16| 2798.9599609375| 2807.5400390625|2768.63989257812|  2776.419921875|  2776.419921875|4362880000| ^GSPC|2755.5737304687486|\n",
      "| 10|2018-01-17|2784.98999023437| 2807.0400390625| 2778.3798828125|2802.56005859375|2802.56005859375|3790340000| ^GSPC|2765.3949890136714|\n",
      "| 11|2018-01-18|2802.39990234375|  2805.830078125|2792.56005859375|2798.03002929687|2798.03002929687|3703300000| ^GSPC| 2772.255004882811|\n",
      "| 12|2018-01-19|2802.60009765625|  2810.330078125|  2798.080078125|2810.30004882812|2810.30004882812|3724230000| ^GSPC| 2780.078765869139|\n",
      "| 13|2018-01-22|2809.15991210937|2833.03002929688| 2808.1201171875|2832.96997070312|2832.96997070312|3489480000| ^GSPC|2790.2887573242165|\n",
      "| 14|2018-01-23|2835.05004882812|2842.23999023438|2830.59008789062| 2839.1298828125| 2839.1298828125|3541140000| ^GSPC| 2801.651245117185|\n",
      "| 15|2018-01-24|  2845.419921875|2852.96997070312|2824.81005859375| 2837.5400390625| 2837.5400390625|4079270000| ^GSPC|2810.3987426757785|\n",
      "| 16|2018-01-25|2846.23999023438|2848.56005859375|2830.93994140625|         2839.25|         2839.25|3873100000| ^GSPC|2817.0249938964826|\n",
      "| 17|2018-01-26|2847.47998046875| 2872.8701171875|2846.17993164062| 2872.8701171875| 2872.8701171875|3474680000| ^GSPC| 2829.081268310545|\n",
      "| 18|2018-01-29|2867.22998046875| 2870.6201171875|2851.47998046875|2853.53002929687|2853.53002929687|3587420000| ^GSPC| 2835.452514648435|\n",
      "| 19|2018-01-30|2832.73999023437|         2837.75|2818.27001953125|2822.42993164063|2822.42993164063|4012070000| ^GSPC| 2838.502502441405|\n",
      "+---+----------+----------------+----------------+----------------+----------------+----------------+----------+------+------------------+\n",
      "only showing top 20 rows\n",
      "\n"
     ]
    },
    {
     "name": "stderr",
     "output_type": "stream",
     "text": [
      "24/04/26 20:51:40 WARN CSVHeaderChecker: CSV header does not conform to the schema.\n",
      " Header: , date, open, high, low, close, adj_close, volume, symbol\n",
      " Schema: _c0, date, open, high, low, close, adj_close, volume, symbol\n",
      "Expected: _c0 but found: \n",
      "CSV file: file:///mnt/g/My%20Drive/mestrados/big_data/exemplos/data/spx500.csv\n"
     ]
    }
   ],
   "source": [
    "df_spx.show()"
   ]
  },
  {
   "cell_type": "code",
   "execution_count": 60,
   "id": "29d53a64",
   "metadata": {},
   "outputs": [],
   "source": [
    "# Stop the SparkSession\n",
    "spark.stop()"
   ]
  }
 ],
 "metadata": {
  "kernelspec": {
   "display_name": "trading",
   "language": "python",
   "name": "python3"
  },
  "language_info": {
   "codemirror_mode": {
    "name": "ipython",
    "version": 3
   },
   "file_extension": ".py",
   "mimetype": "text/x-python",
   "name": "python",
   "nbconvert_exporter": "python",
   "pygments_lexer": "ipython3",
   "version": "3.12.2"
  },
  "vscode": {
   "interpreter": {
    "hash": "04564a1046d95370f7cd6169e1f74c2a4d474222cbbb0e33e7b3055c1815a767"
   }
  }
 },
 "nbformat": 4,
 "nbformat_minor": 5
}
