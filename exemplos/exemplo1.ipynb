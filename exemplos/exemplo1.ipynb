{
 "cells": [
  {
   "cell_type": "markdown",
   "id": "760686b7",
   "metadata": {},
   "source": [
    "# First steps\n",
    "* PySpark Dataframe\n",
    "* Reading The Dataset\n",
    "* Checking the Datatypes of the Column(Schema)\n",
    "* Selecting Columns And Indexing\n",
    "* Check Describe option similar to Pandas\n",
    "* Adding Columns\n",
    "* Dropping columns\n",
    "* Renaming Columns"
   ]
  },
  {
   "cell_type": "markdown",
   "id": "cc7787cb-523b-4c2a-a0cd-660e2c5d45c5",
   "metadata": {},
   "source": [
    "# Check assumptions"
   ]
  },
  {
   "cell_type": "code",
   "execution_count": 1,
   "id": "779e4246-e479-4bc1-96b7-54599c40b9b2",
   "metadata": {},
   "outputs": [],
   "source": [
    "import pyspark"
   ]
  },
  {
   "cell_type": "code",
   "execution_count": 2,
   "id": "ea2ea829",
   "metadata": {},
   "outputs": [
    {
     "data": {
      "text/plain": [
       "'3.5.1'"
      ]
     },
     "execution_count": 2,
     "metadata": {},
     "output_type": "execute_result"
    }
   ],
   "source": [
    "pyspark.__version__"
   ]
  },
  {
   "cell_type": "code",
   "execution_count": 3,
   "id": "0b488bc2",
   "metadata": {},
   "outputs": [],
   "source": [
    "import findspark\n",
    "findspark.init()"
   ]
  },
  {
   "cell_type": "markdown",
   "id": "13bae9a8-d72d-42a8-8801-261abbb2d801",
   "metadata": {},
   "source": [
    "Se der erro:\n",
    "\n",
    "```Py4JJavaError: An error occurred while calling None.org.apache.spark.api.java.JavaSparkContext.\n",
    ": java.net.BindException: Cannot assign requested address: bind: Service 'sparkDriver' failed after 16 retries (on a random free port)! Consider explicitly setting the appropriate binding address for the service 'sparkDriver' (for example spark.driver.bindAddress for SparkDriver) to the correct binding address```"
   ]
  },
  {
   "cell_type": "code",
   "execution_count": 4,
   "id": "e04ecdbe-453f-427b-9854-d6ecbca01f49",
   "metadata": {},
   "outputs": [],
   "source": [
    "conf = pyspark.SparkConf().set('spark.driver.host','localhost')"
   ]
  },
  {
   "cell_type": "code",
   "execution_count": 5,
   "id": "80558b32",
   "metadata": {},
   "outputs": [],
   "source": [
    "# Import PySpark and create a SparkSession\n",
    "from pyspark.sql import SparkSession\n",
    "\n",
    "#spark = SparkSession.builder.appName(\"ImportData\").getOrCreate()\n",
    "\n",
    "spark = SparkSession.builder \\\n",
    "    .appName(\"ImportData\") \\\n",
    "    .config(\"spark.executor.memory\", \"4g\") \\\n",
    "    .getOrCreate()"
   ]
  },
  {
   "cell_type": "code",
   "execution_count": 6,
   "id": "1a07e8a5",
   "metadata": {},
   "outputs": [
    {
     "data": {
      "text/html": [
       "\n",
       "            <div>\n",
       "                <p><b>SparkSession - in-memory</b></p>\n",
       "                \n",
       "        <div>\n",
       "            <p><b>SparkContext</b></p>\n",
       "\n",
       "            <p><a href=\"http://msi-sobreiro.lan:4040\">Spark UI</a></p>\n",
       "\n",
       "            <dl>\n",
       "              <dt>Version</dt>\n",
       "                <dd><code>v3.5.1</code></dd>\n",
       "              <dt>Master</dt>\n",
       "                <dd><code>local[*]</code></dd>\n",
       "              <dt>AppName</dt>\n",
       "                <dd><code>ImportData</code></dd>\n",
       "            </dl>\n",
       "        </div>\n",
       "        \n",
       "            </div>\n",
       "        "
      ],
      "text/plain": [
       "<pyspark.sql.session.SparkSession at 0x1b8b1e69880>"
      ]
     },
     "execution_count": 6,
     "metadata": {},
     "output_type": "execute_result"
    }
   ],
   "source": [
    "spark"
   ]
  },
  {
   "cell_type": "markdown",
   "id": "85cc06b9",
   "metadata": {},
   "source": [
    "# Comandos jupyter notebook\n",
    "\n",
    "\n",
    "* a = above abre célula acima\n",
    "* b = bellow abre célula abaixo\n",
    "* dd = apaga célula\n",
    "* x corta célula\n",
    "* v cola célula\n",
    "* m modo markdown\n",
    "* y modo código\n",
    "\n",
    "# Markdown\n",
    "\n",
    "* \\# Titulo 1\n",
    "* \\## Titulo 2\n",
    "* \\* unnumbered bullet\n",
    "* \\1. numbered bullet\n",
    "\n",
    "1. Item\n",
    "2. Item\n",
    "3. Item\n",
    "\n",
    "[Nome texto)(hiperligação)\n",
    "\n"
   ]
  },
  {
   "cell_type": "markdown",
   "id": "ba5a6a3f",
   "metadata": {},
   "source": [
    "# Descarregar ficheiro que está no moodle\n",
    "\n",
    "* sxp500 e gravar no local onde está no notebook\n",
    "* para confirmar podem inserir o comando numa célula !pwd"
   ]
  },
  {
   "cell_type": "code",
   "execution_count": 7,
   "id": "6d30f5e1",
   "metadata": {},
   "outputs": [
    {
     "name": "stderr",
     "output_type": "stream",
     "text": [
      "'pwd' is not recognized as an internal or external command,\n",
      "operable program or batch file.\n"
     ]
    }
   ],
   "source": [
    "!pwd"
   ]
  },
  {
   "cell_type": "code",
   "execution_count": 8,
   "id": "550ad8ba",
   "metadata": {},
   "outputs": [],
   "source": [
    "import pandas as pd\n",
    "\n",
    "df_exemplo=pd.read_csv(\"./data/spx500.csv\")"
   ]
  },
  {
   "cell_type": "code",
   "execution_count": 9,
   "id": "2b45a23f",
   "metadata": {},
   "outputs": [
    {
     "data": {
      "text/plain": [
       "pandas.core.frame.DataFrame"
      ]
     },
     "execution_count": 9,
     "metadata": {},
     "output_type": "execute_result"
    }
   ],
   "source": [
    "type(df_exemplo)"
   ]
  },
  {
   "cell_type": "code",
   "execution_count": 10,
   "id": "d7b9d2a1",
   "metadata": {},
   "outputs": [
    {
     "data": {
      "text/html": [
       "<div>\n",
       "<style scoped>\n",
       "    .dataframe tbody tr th:only-of-type {\n",
       "        vertical-align: middle;\n",
       "    }\n",
       "\n",
       "    .dataframe tbody tr th {\n",
       "        vertical-align: top;\n",
       "    }\n",
       "\n",
       "    .dataframe thead th {\n",
       "        text-align: right;\n",
       "    }\n",
       "</style>\n",
       "<table border=\"1\" class=\"dataframe\">\n",
       "  <thead>\n",
       "    <tr style=\"text-align: right;\">\n",
       "      <th></th>\n",
       "      <th>Unnamed: 0</th>\n",
       "      <th>open</th>\n",
       "      <th>high</th>\n",
       "      <th>low</th>\n",
       "      <th>close</th>\n",
       "      <th>adj_close</th>\n",
       "      <th>volume</th>\n",
       "    </tr>\n",
       "  </thead>\n",
       "  <tbody>\n",
       "    <tr>\n",
       "      <th>count</th>\n",
       "      <td>1229.000000</td>\n",
       "      <td>1229.000000</td>\n",
       "      <td>1229.000000</td>\n",
       "      <td>1229.000000</td>\n",
       "      <td>1229.000000</td>\n",
       "      <td>1229.000000</td>\n",
       "      <td>1.229000e+03</td>\n",
       "    </tr>\n",
       "    <tr>\n",
       "      <th>mean</th>\n",
       "      <td>614.000000</td>\n",
       "      <td>3437.767981</td>\n",
       "      <td>3458.883555</td>\n",
       "      <td>3414.612938</td>\n",
       "      <td>3437.854352</td>\n",
       "      <td>3437.854352</td>\n",
       "      <td>4.235175e+09</td>\n",
       "    </tr>\n",
       "    <tr>\n",
       "      <th>std</th>\n",
       "      <td>354.926049</td>\n",
       "      <td>672.382944</td>\n",
       "      <td>675.864967</td>\n",
       "      <td>668.834080</td>\n",
       "      <td>672.511442</td>\n",
       "      <td>672.511442</td>\n",
       "      <td>1.083341e+09</td>\n",
       "    </tr>\n",
       "    <tr>\n",
       "      <th>min</th>\n",
       "      <td>0.000000</td>\n",
       "      <td>2290.709961</td>\n",
       "      <td>2300.729980</td>\n",
       "      <td>2191.860107</td>\n",
       "      <td>2237.399902</td>\n",
       "      <td>2237.399902</td>\n",
       "      <td>1.296530e+09</td>\n",
       "    </tr>\n",
       "    <tr>\n",
       "      <th>25%</th>\n",
       "      <td>307.000000</td>\n",
       "      <td>2836.699951</td>\n",
       "      <td>2852.419922</td>\n",
       "      <td>2820.429932</td>\n",
       "      <td>2839.250000</td>\n",
       "      <td>2839.250000</td>\n",
       "      <td>3.523520e+09</td>\n",
       "    </tr>\n",
       "    <tr>\n",
       "      <th>50%</th>\n",
       "      <td>614.000000</td>\n",
       "      <td>3240.090088</td>\n",
       "      <td>3259.810059</td>\n",
       "      <td>3227.199951</td>\n",
       "      <td>3246.219971</td>\n",
       "      <td>3246.219971</td>\n",
       "      <td>3.996900e+09</td>\n",
       "    </tr>\n",
       "    <tr>\n",
       "      <th>75%</th>\n",
       "      <td>921.000000</td>\n",
       "      <td>4074.290039</td>\n",
       "      <td>4083.419922</td>\n",
       "      <td>4033.929932</td>\n",
       "      <td>4067.360107</td>\n",
       "      <td>4067.360107</td>\n",
       "      <td>4.687320e+09</td>\n",
       "    </tr>\n",
       "    <tr>\n",
       "      <th>max</th>\n",
       "      <td>1228.000000</td>\n",
       "      <td>4804.509766</td>\n",
       "      <td>4818.620117</td>\n",
       "      <td>4780.040039</td>\n",
       "      <td>4796.560059</td>\n",
       "      <td>4796.560059</td>\n",
       "      <td>9.976520e+09</td>\n",
       "    </tr>\n",
       "  </tbody>\n",
       "</table>\n",
       "</div>"
      ],
      "text/plain": [
       "        Unnamed: 0         open         high          low        close  \\\n",
       "count  1229.000000  1229.000000  1229.000000  1229.000000  1229.000000   \n",
       "mean    614.000000  3437.767981  3458.883555  3414.612938  3437.854352   \n",
       "std     354.926049   672.382944   675.864967   668.834080   672.511442   \n",
       "min       0.000000  2290.709961  2300.729980  2191.860107  2237.399902   \n",
       "25%     307.000000  2836.699951  2852.419922  2820.429932  2839.250000   \n",
       "50%     614.000000  3240.090088  3259.810059  3227.199951  3246.219971   \n",
       "75%     921.000000  4074.290039  4083.419922  4033.929932  4067.360107   \n",
       "max    1228.000000  4804.509766  4818.620117  4780.040039  4796.560059   \n",
       "\n",
       "         adj_close        volume  \n",
       "count  1229.000000  1.229000e+03  \n",
       "mean   3437.854352  4.235175e+09  \n",
       "std     672.511442  1.083341e+09  \n",
       "min    2237.399902  1.296530e+09  \n",
       "25%    2839.250000  3.523520e+09  \n",
       "50%    3246.219971  3.996900e+09  \n",
       "75%    4067.360107  4.687320e+09  \n",
       "max    4796.560059  9.976520e+09  "
      ]
     },
     "execution_count": 10,
     "metadata": {},
     "output_type": "execute_result"
    }
   ],
   "source": [
    "df_exemplo.describe()"
   ]
  },
  {
   "cell_type": "code",
   "execution_count": 11,
   "id": "413f0f80",
   "metadata": {},
   "outputs": [
    {
     "name": "stdout",
     "output_type": "stream",
     "text": [
      "<class 'pandas.core.frame.DataFrame'>\n",
      "RangeIndex: 1229 entries, 0 to 1228\n",
      "Data columns (total 9 columns):\n",
      " #   Column      Non-Null Count  Dtype  \n",
      "---  ------      --------------  -----  \n",
      " 0   Unnamed: 0  1229 non-null   int64  \n",
      " 1   date        1229 non-null   object \n",
      " 2   open        1229 non-null   float64\n",
      " 3   high        1229 non-null   float64\n",
      " 4   low         1229 non-null   float64\n",
      " 5   close       1229 non-null   float64\n",
      " 6   adj_close   1229 non-null   float64\n",
      " 7   volume      1229 non-null   int64  \n",
      " 8   symbol      1229 non-null   object \n",
      "dtypes: float64(5), int64(2), object(2)\n",
      "memory usage: 86.5+ KB\n"
     ]
    }
   ],
   "source": [
    "df_exemplo.info()"
   ]
  },
  {
   "cell_type": "code",
   "execution_count": 12,
   "id": "a98bacff",
   "metadata": {},
   "outputs": [],
   "source": [
    "# Read a CSV file and create a DataFrame\n",
    "df_spx=spark.read.option(\"header\",\"true\").csv('./data/spx500.csv',inferSchema=True)\n"
   ]
  },
  {
   "cell_type": "code",
   "execution_count": 13,
   "id": "0d3f2207",
   "metadata": {},
   "outputs": [
    {
     "data": {
      "text/plain": [
       "pyspark.sql.dataframe.DataFrame"
      ]
     },
     "execution_count": 13,
     "metadata": {},
     "output_type": "execute_result"
    }
   ],
   "source": [
    "type(df_spx)"
   ]
  },
  {
   "cell_type": "code",
   "execution_count": 14,
   "id": "af25bb97",
   "metadata": {},
   "outputs": [
    {
     "data": {
      "text/html": [
       "<div>\n",
       "<style scoped>\n",
       "    .dataframe tbody tr th:only-of-type {\n",
       "        vertical-align: middle;\n",
       "    }\n",
       "\n",
       "    .dataframe tbody tr th {\n",
       "        vertical-align: top;\n",
       "    }\n",
       "\n",
       "    .dataframe thead th {\n",
       "        text-align: right;\n",
       "    }\n",
       "</style>\n",
       "<table border=\"1\" class=\"dataframe\">\n",
       "  <thead>\n",
       "    <tr style=\"text-align: right;\">\n",
       "      <th></th>\n",
       "      <th>_c0</th>\n",
       "      <th>date</th>\n",
       "      <th>open</th>\n",
       "      <th>high</th>\n",
       "      <th>low</th>\n",
       "      <th>close</th>\n",
       "      <th>adj_close</th>\n",
       "      <th>volume</th>\n",
       "      <th>symbol</th>\n",
       "    </tr>\n",
       "  </thead>\n",
       "  <tbody>\n",
       "    <tr>\n",
       "      <th>0</th>\n",
       "      <td>0</td>\n",
       "      <td>2018-01-02</td>\n",
       "      <td>2683.729980</td>\n",
       "      <td>2695.889893</td>\n",
       "      <td>2682.360107</td>\n",
       "      <td>2695.810059</td>\n",
       "      <td>2695.810059</td>\n",
       "      <td>3397430000</td>\n",
       "      <td>^GSPC</td>\n",
       "    </tr>\n",
       "    <tr>\n",
       "      <th>1</th>\n",
       "      <td>1</td>\n",
       "      <td>2018-01-03</td>\n",
       "      <td>2697.850098</td>\n",
       "      <td>2714.370117</td>\n",
       "      <td>2697.770020</td>\n",
       "      <td>2713.060059</td>\n",
       "      <td>2713.060059</td>\n",
       "      <td>3544030000</td>\n",
       "      <td>^GSPC</td>\n",
       "    </tr>\n",
       "    <tr>\n",
       "      <th>2</th>\n",
       "      <td>2</td>\n",
       "      <td>2018-01-04</td>\n",
       "      <td>2719.310059</td>\n",
       "      <td>2729.290039</td>\n",
       "      <td>2719.070068</td>\n",
       "      <td>2723.989990</td>\n",
       "      <td>2723.989990</td>\n",
       "      <td>3697340000</td>\n",
       "      <td>^GSPC</td>\n",
       "    </tr>\n",
       "    <tr>\n",
       "      <th>3</th>\n",
       "      <td>3</td>\n",
       "      <td>2018-01-05</td>\n",
       "      <td>2731.330078</td>\n",
       "      <td>2743.449951</td>\n",
       "      <td>2727.919922</td>\n",
       "      <td>2743.149902</td>\n",
       "      <td>2743.149902</td>\n",
       "      <td>3239280000</td>\n",
       "      <td>^GSPC</td>\n",
       "    </tr>\n",
       "    <tr>\n",
       "      <th>4</th>\n",
       "      <td>4</td>\n",
       "      <td>2018-01-08</td>\n",
       "      <td>2742.669922</td>\n",
       "      <td>2748.510010</td>\n",
       "      <td>2737.600098</td>\n",
       "      <td>2747.709961</td>\n",
       "      <td>2747.709961</td>\n",
       "      <td>3246160000</td>\n",
       "      <td>^GSPC</td>\n",
       "    </tr>\n",
       "  </tbody>\n",
       "</table>\n",
       "</div>"
      ],
      "text/plain": [
       "   _c0        date         open         high          low        close  \\\n",
       "0    0  2018-01-02  2683.729980  2695.889893  2682.360107  2695.810059   \n",
       "1    1  2018-01-03  2697.850098  2714.370117  2697.770020  2713.060059   \n",
       "2    2  2018-01-04  2719.310059  2729.290039  2719.070068  2723.989990   \n",
       "3    3  2018-01-05  2731.330078  2743.449951  2727.919922  2743.149902   \n",
       "4    4  2018-01-08  2742.669922  2748.510010  2737.600098  2747.709961   \n",
       "\n",
       "     adj_close      volume symbol  \n",
       "0  2695.810059  3397430000  ^GSPC  \n",
       "1  2713.060059  3544030000  ^GSPC  \n",
       "2  2723.989990  3697340000  ^GSPC  \n",
       "3  2743.149902  3239280000  ^GSPC  \n",
       "4  2747.709961  3246160000  ^GSPC  "
      ]
     },
     "execution_count": 14,
     "metadata": {},
     "output_type": "execute_result"
    }
   ],
   "source": [
    "df_spx.toPandas().head()"
   ]
  },
  {
   "cell_type": "code",
   "execution_count": 15,
   "id": "0b5bc8ac",
   "metadata": {},
   "outputs": [
    {
     "data": {
      "text/plain": [
       "pandas.core.frame.DataFrame"
      ]
     },
     "execution_count": 15,
     "metadata": {},
     "output_type": "execute_result"
    }
   ],
   "source": [
    "type(df_spx.toPandas().head())"
   ]
  },
  {
   "cell_type": "code",
   "execution_count": 16,
   "id": "28950871",
   "metadata": {},
   "outputs": [
    {
     "data": {
      "text/html": [
       "<div>\n",
       "<style scoped>\n",
       "    .dataframe tbody tr th:only-of-type {\n",
       "        vertical-align: middle;\n",
       "    }\n",
       "\n",
       "    .dataframe tbody tr th {\n",
       "        vertical-align: top;\n",
       "    }\n",
       "\n",
       "    .dataframe thead th {\n",
       "        text-align: right;\n",
       "    }\n",
       "</style>\n",
       "<table border=\"1\" class=\"dataframe\">\n",
       "  <thead>\n",
       "    <tr style=\"text-align: right;\">\n",
       "      <th></th>\n",
       "      <th>_c0</th>\n",
       "      <th>date</th>\n",
       "      <th>open</th>\n",
       "      <th>high</th>\n",
       "      <th>low</th>\n",
       "      <th>close</th>\n",
       "      <th>adj_close</th>\n",
       "      <th>volume</th>\n",
       "      <th>symbol</th>\n",
       "    </tr>\n",
       "  </thead>\n",
       "  <tbody>\n",
       "    <tr>\n",
       "      <th>0</th>\n",
       "      <td>4</td>\n",
       "      <td>2018-01-08</td>\n",
       "      <td>2742.669922</td>\n",
       "      <td>2748.510010</td>\n",
       "      <td>2737.600098</td>\n",
       "      <td>2747.709961</td>\n",
       "      <td>2747.709961</td>\n",
       "      <td>3246160000</td>\n",
       "      <td>^GSPC</td>\n",
       "    </tr>\n",
       "    <tr>\n",
       "      <th>1</th>\n",
       "      <td>5</td>\n",
       "      <td>2018-01-09</td>\n",
       "      <td>2751.149902</td>\n",
       "      <td>2759.139893</td>\n",
       "      <td>2747.860107</td>\n",
       "      <td>2751.290039</td>\n",
       "      <td>2751.290039</td>\n",
       "      <td>3467460000</td>\n",
       "      <td>^GSPC</td>\n",
       "    </tr>\n",
       "    <tr>\n",
       "      <th>2</th>\n",
       "      <td>15</td>\n",
       "      <td>2018-01-24</td>\n",
       "      <td>2845.419922</td>\n",
       "      <td>2852.969971</td>\n",
       "      <td>2824.810059</td>\n",
       "      <td>2837.540039</td>\n",
       "      <td>2837.540039</td>\n",
       "      <td>4079270000</td>\n",
       "      <td>^GSPC</td>\n",
       "    </tr>\n",
       "    <tr>\n",
       "      <th>3</th>\n",
       "      <td>31</td>\n",
       "      <td>2018-02-15</td>\n",
       "      <td>2713.459961</td>\n",
       "      <td>2731.510010</td>\n",
       "      <td>2689.820068</td>\n",
       "      <td>2731.199951</td>\n",
       "      <td>2731.199951</td>\n",
       "      <td>3696140000</td>\n",
       "      <td>^GSPC</td>\n",
       "    </tr>\n",
       "    <tr>\n",
       "      <th>4</th>\n",
       "      <td>33</td>\n",
       "      <td>2018-02-20</td>\n",
       "      <td>2722.989990</td>\n",
       "      <td>2737.600098</td>\n",
       "      <td>2706.760010</td>\n",
       "      <td>2716.260010</td>\n",
       "      <td>2716.260010</td>\n",
       "      <td>3646920000</td>\n",
       "      <td>^GSPC</td>\n",
       "    </tr>\n",
       "  </tbody>\n",
       "</table>\n",
       "</div>"
      ],
      "text/plain": [
       "   _c0        date         open         high          low        close  \\\n",
       "0    4  2018-01-08  2742.669922  2748.510010  2737.600098  2747.709961   \n",
       "1    5  2018-01-09  2751.149902  2759.139893  2747.860107  2751.290039   \n",
       "2   15  2018-01-24  2845.419922  2852.969971  2824.810059  2837.540039   \n",
       "3   31  2018-02-15  2713.459961  2731.510010  2689.820068  2731.199951   \n",
       "4   33  2018-02-20  2722.989990  2737.600098  2706.760010  2716.260010   \n",
       "\n",
       "     adj_close      volume symbol  \n",
       "0  2747.709961  3246160000  ^GSPC  \n",
       "1  2751.290039  3467460000  ^GSPC  \n",
       "2  2837.540039  4079270000  ^GSPC  \n",
       "3  2731.199951  3696140000  ^GSPC  \n",
       "4  2716.260010  3646920000  ^GSPC  "
      ]
     },
     "execution_count": 16,
     "metadata": {},
     "output_type": "execute_result"
    }
   ],
   "source": [
    "df_spx.sample(fraction=0.1).toPandas().head()"
   ]
  },
  {
   "cell_type": "code",
   "execution_count": 17,
   "id": "af40dde7",
   "metadata": {},
   "outputs": [
    {
     "name": "stdout",
     "output_type": "stream",
     "text": [
      "+---+----------+----------------+----------------+----------------+----------------+----------------+----------+------+\n",
      "|_c0|      date|            open|            high|             low|           close|       adj_close|    volume|symbol|\n",
      "+---+----------+----------------+----------------+----------------+----------------+----------------+----------+------+\n",
      "|  0|2018-01-02|2683.72998046875|2695.88989257812|2682.36010742187|2695.81005859375|2695.81005859375|3397430000| ^GSPC|\n",
      "|  1|2018-01-03|2697.85009765625| 2714.3701171875|2697.77001953125|2713.06005859375|2713.06005859375|3544030000| ^GSPC|\n",
      "|  2|2018-01-04|2719.31005859375| 2729.2900390625|2719.07006835937|2723.98999023437|2723.98999023437|3697340000| ^GSPC|\n",
      "|  3|2018-01-05|  2731.330078125|2743.44995117187|  2727.919921875|2743.14990234375|2743.14990234375|3239280000| ^GSPC|\n",
      "|  4|2018-01-08|  2742.669921875|2748.51000976563|2737.60009765625| 2747.7099609375| 2747.7099609375|3246160000| ^GSPC|\n",
      "+---+----------+----------------+----------------+----------------+----------------+----------------+----------+------+\n",
      "only showing top 5 rows\n",
      "\n"
     ]
    }
   ],
   "source": [
    "df_spx.show(5)"
   ]
  },
  {
   "cell_type": "code",
   "execution_count": 18,
   "id": "647cd8e8",
   "metadata": {},
   "outputs": [
    {
     "data": {
      "text/plain": [
       "[Row(_c0=1224, date=datetime.date(2022, 11, 10), open=3859.88989257812, high=3958.330078125, low=3859.88989257812, close=3956.3701171875, adj_close=3956.3701171875, volume=5781260000, symbol='^GSPC'),\n",
       " Row(_c0=1225, date=datetime.date(2022, 11, 11), open=3963.71997070313, high=4001.47998046875, low=3944.82006835938, close=3992.92993164062, adj_close=3992.92993164062, volume=5593310000, symbol='^GSPC'),\n",
       " Row(_c0=1226, date=datetime.date(2022, 11, 14), open=3977.96997070312, high=4008.96997070313, low=3956.39990234375, close=3957.25, adj_close=3957.25, volume=4561930000, symbol='^GSPC'),\n",
       " Row(_c0=1227, date=datetime.date(2022, 11, 15), open=4006.40991210938, high=4028.84008789063, low=3953.169921875, close=3991.72998046875, adj_close=3991.72998046875, volume=5015310000, symbol='^GSPC'),\n",
       " Row(_c0=1228, date=datetime.date(2022, 11, 16), open=3976.82006835938, high=3983.09008789062, low=3954.34008789063, close=3958.7900390625, adj_close=3958.7900390625, volume=2377496000, symbol='^GSPC')]"
      ]
     },
     "execution_count": 18,
     "metadata": {},
     "output_type": "execute_result"
    }
   ],
   "source": [
    "df_spx.tail(5)"
   ]
  },
  {
   "cell_type": "code",
   "execution_count": 19,
   "id": "57dea313",
   "metadata": {},
   "outputs": [
    {
     "data": {
      "text/plain": [
       "pyspark.sql.dataframe.DataFrame"
      ]
     },
     "execution_count": 19,
     "metadata": {},
     "output_type": "execute_result"
    }
   ],
   "source": [
    "type(df_spx)"
   ]
  },
  {
   "cell_type": "code",
   "execution_count": 20,
   "id": "f09ec437",
   "metadata": {},
   "outputs": [
    {
     "name": "stdout",
     "output_type": "stream",
     "text": [
      "+----------+----------------+\n",
      "|      date|           close|\n",
      "+----------+----------------+\n",
      "|2018-01-02|2695.81005859375|\n",
      "|2018-01-03|2713.06005859375|\n",
      "|2018-01-04|2723.98999023437|\n",
      "|2018-01-05|2743.14990234375|\n",
      "|2018-01-08| 2747.7099609375|\n",
      "|2018-01-09| 2751.2900390625|\n",
      "|2018-01-10|2748.22998046875|\n",
      "|2018-01-11|2767.56005859375|\n",
      "|2018-01-12|2786.23999023437|\n",
      "|2018-01-16|  2776.419921875|\n",
      "|2018-01-17|2802.56005859375|\n",
      "|2018-01-18|2798.03002929687|\n",
      "|2018-01-19|2810.30004882812|\n",
      "|2018-01-22|2832.96997070312|\n",
      "|2018-01-23| 2839.1298828125|\n",
      "|2018-01-24| 2837.5400390625|\n",
      "|2018-01-25|         2839.25|\n",
      "|2018-01-26| 2872.8701171875|\n",
      "|2018-01-29|2853.53002929687|\n",
      "|2018-01-30|2822.42993164063|\n",
      "+----------+----------------+\n",
      "only showing top 20 rows\n",
      "\n"
     ]
    }
   ],
   "source": [
    "# Show the first 10 rows of the DataFrame\n",
    "df_spx[['date','close']].show()"
   ]
  },
  {
   "cell_type": "code",
   "execution_count": 21,
   "id": "acb66b8b",
   "metadata": {},
   "outputs": [
    {
     "data": {
      "text/plain": [
       "[Row(_c0=0, date=datetime.date(2018, 1, 2), open=2683.72998046875, high=2695.88989257812, low=2682.36010742187, close=2695.81005859375, adj_close=2695.81005859375, volume=3397430000, symbol='^GSPC'),\n",
       " Row(_c0=1, date=datetime.date(2018, 1, 3), open=2697.85009765625, high=2714.3701171875, low=2697.77001953125, close=2713.06005859375, adj_close=2713.06005859375, volume=3544030000, symbol='^GSPC'),\n",
       " Row(_c0=2, date=datetime.date(2018, 1, 4), open=2719.31005859375, high=2729.2900390625, low=2719.07006835937, close=2723.98999023437, adj_close=2723.98999023437, volume=3697340000, symbol='^GSPC'),\n",
       " Row(_c0=3, date=datetime.date(2018, 1, 5), open=2731.330078125, high=2743.44995117187, low=2727.919921875, close=2743.14990234375, adj_close=2743.14990234375, volume=3239280000, symbol='^GSPC')]"
      ]
     },
     "execution_count": 21,
     "metadata": {},
     "output_type": "execute_result"
    }
   ],
   "source": [
    "df_spx.take(4)"
   ]
  },
  {
   "cell_type": "code",
   "execution_count": 22,
   "id": "53729e76",
   "metadata": {},
   "outputs": [
    {
     "data": {
      "text/html": [
       "<div>\n",
       "<style scoped>\n",
       "    .dataframe tbody tr th:only-of-type {\n",
       "        vertical-align: middle;\n",
       "    }\n",
       "\n",
       "    .dataframe tbody tr th {\n",
       "        vertical-align: top;\n",
       "    }\n",
       "\n",
       "    .dataframe thead th {\n",
       "        text-align: right;\n",
       "    }\n",
       "</style>\n",
       "<table border=\"1\" class=\"dataframe\">\n",
       "  <thead>\n",
       "    <tr style=\"text-align: right;\">\n",
       "      <th></th>\n",
       "      <th>summary</th>\n",
       "      <th>_c0</th>\n",
       "      <th>open</th>\n",
       "      <th>high</th>\n",
       "      <th>low</th>\n",
       "      <th>close</th>\n",
       "      <th>adj_close</th>\n",
       "      <th>volume</th>\n",
       "      <th>symbol</th>\n",
       "    </tr>\n",
       "  </thead>\n",
       "  <tbody>\n",
       "    <tr>\n",
       "      <th>0</th>\n",
       "      <td>count</td>\n",
       "      <td>1229</td>\n",
       "      <td>1229</td>\n",
       "      <td>1229</td>\n",
       "      <td>1229</td>\n",
       "      <td>1229</td>\n",
       "      <td>1229</td>\n",
       "      <td>1229</td>\n",
       "      <td>1229</td>\n",
       "    </tr>\n",
       "    <tr>\n",
       "      <th>1</th>\n",
       "      <td>mean</td>\n",
       "      <td>614.0</td>\n",
       "      <td>3437.767980589529</td>\n",
       "      <td>3458.883554655716</td>\n",
       "      <td>3414.612937585817</td>\n",
       "      <td>3437.854352338029</td>\n",
       "      <td>3437.854352338029</td>\n",
       "      <td>4.235175114727421E9</td>\n",
       "      <td>None</td>\n",
       "    </tr>\n",
       "    <tr>\n",
       "      <th>2</th>\n",
       "      <td>stddev</td>\n",
       "      <td>354.9260486354869</td>\n",
       "      <td>672.3829441726768</td>\n",
       "      <td>675.8649665978218</td>\n",
       "      <td>668.8340795160047</td>\n",
       "      <td>672.5114423670053</td>\n",
       "      <td>672.5114423670053</td>\n",
       "      <td>1.0833411150490143E9</td>\n",
       "      <td>None</td>\n",
       "    </tr>\n",
       "    <tr>\n",
       "      <th>3</th>\n",
       "      <td>min</td>\n",
       "      <td>0</td>\n",
       "      <td>2290.7099609375</td>\n",
       "      <td>2300.72998046875</td>\n",
       "      <td>2191.86010742187</td>\n",
       "      <td>2237.39990234375</td>\n",
       "      <td>2237.39990234375</td>\n",
       "      <td>1296530000</td>\n",
       "      <td>^GSPC</td>\n",
       "    </tr>\n",
       "    <tr>\n",
       "      <th>4</th>\n",
       "      <td>max</td>\n",
       "      <td>1228</td>\n",
       "      <td>4804.509765625</td>\n",
       "      <td>4818.6201171875</td>\n",
       "      <td>4780.0400390625</td>\n",
       "      <td>4796.56005859375</td>\n",
       "      <td>4796.56005859375</td>\n",
       "      <td>9976520000</td>\n",
       "      <td>^GSPC</td>\n",
       "    </tr>\n",
       "  </tbody>\n",
       "</table>\n",
       "</div>"
      ],
      "text/plain": [
       "  summary                _c0               open               high  \\\n",
       "0   count               1229               1229               1229   \n",
       "1    mean              614.0  3437.767980589529  3458.883554655716   \n",
       "2  stddev  354.9260486354869  672.3829441726768  675.8649665978218   \n",
       "3     min                  0    2290.7099609375   2300.72998046875   \n",
       "4     max               1228     4804.509765625    4818.6201171875   \n",
       "\n",
       "                 low              close          adj_close  \\\n",
       "0               1229               1229               1229   \n",
       "1  3414.612937585817  3437.854352338029  3437.854352338029   \n",
       "2  668.8340795160047  672.5114423670053  672.5114423670053   \n",
       "3   2191.86010742187   2237.39990234375   2237.39990234375   \n",
       "4    4780.0400390625   4796.56005859375   4796.56005859375   \n",
       "\n",
       "                 volume symbol  \n",
       "0                  1229   1229  \n",
       "1   4.235175114727421E9   None  \n",
       "2  1.0833411150490143E9   None  \n",
       "3            1296530000  ^GSPC  \n",
       "4            9976520000  ^GSPC  "
      ]
     },
     "execution_count": 22,
     "metadata": {},
     "output_type": "execute_result"
    }
   ],
   "source": [
    "df_spx.describe().toPandas()"
   ]
  },
  {
   "cell_type": "code",
   "execution_count": 23,
   "id": "9d2d6141",
   "metadata": {},
   "outputs": [
    {
     "data": {
      "text/plain": [
       "[Row(_c0=0, date=datetime.date(2018, 1, 2), open=2683.72998046875, high=2695.88989257812, low=2682.36010742187, close=2695.81005859375, adj_close=2695.81005859375, volume=3397430000, symbol='^GSPC')]"
      ]
     },
     "execution_count": 23,
     "metadata": {},
     "output_type": "execute_result"
    }
   ],
   "source": [
    "df_spx.take(1)"
   ]
  },
  {
   "cell_type": "code",
   "execution_count": 24,
   "id": "1a6b1fb0",
   "metadata": {},
   "outputs": [
    {
     "name": "stdout",
     "output_type": "stream",
     "text": [
      "== Physical Plan ==\n",
      "FileScan csv [_c0#17,date#18,open#19,high#20,low#21,close#22,adj_close#23,volume#24L,symbol#25] Batched: false, DataFilters: [], Format: CSV, Location: InMemoryFileIndex(1 paths)[file:/g:/My Drive/mestrados/big_data/exemplos/data/spx500.csv], PartitionFilters: [], PushedFilters: [], ReadSchema: struct<_c0:int,date:date,open:double,high:double,low:double,close:double,adj_close:double,volume:...\n",
      "\n",
      "\n"
     ]
    }
   ],
   "source": [
    "df_spx.explain()"
   ]
  },
  {
   "cell_type": "markdown",
   "id": "ee74c5a6",
   "metadata": {},
   "source": [
    "# Exemplo com pyspark.pandas\n",
    "\n",
    "Advantages of pyspark.pandas over pandas:\n",
    "\n",
    "* Scalability: The biggest advantage is its ability to handle datasets that are far too large to fit into the memory of a single machine. pyspark.pandas leverages the power of Apache Spark to distribute data and computations across a cluster of machines, enabling processing of massive datasets that would overwhelm pandas.\n",
    "* Distributed Computing: By distributing workloads, pyspark.pandas can often achieve significantly faster processing times than pandas on large datasets. This is especially beneficial for tasks like complex aggregations, joins, or machine learning algorithms.\n",
    "* Integration with Spark Ecosystem: pyspark.pandas seamlessly integrates with other components of the Spark ecosystem, such as Spark SQL for querying structured data, Spark Streaming for real-time processing, and MLlib for machine learning. This makes it easier to build end-to-end big data pipelines.\n",
    "* Familiarity: The API of pyspark.pandas is intentionally designed to be very similar to pandas, making it easier for data scientists familiar with pandas to transition to big data analysis.\n",
    "* pyspark.pandas: The preferred choice for large-scale datasets that exceed the memory capacity of a single machine. It provides scalability, distributed computing capabilities, and integration with the broader Spark ecosystem.\n"
   ]
  },
  {
   "cell_type": "code",
   "execution_count": 25,
   "id": "f7ac615b",
   "metadata": {},
   "outputs": [
    {
     "name": "stderr",
     "output_type": "stream",
     "text": [
      "c:\\Users\\sobre\\anaconda3\\envs\\bigdata\\Lib\\site-packages\\pyspark\\pandas\\__init__.py:50: UserWarning: 'PYARROW_IGNORE_TIMEZONE' environment variable was not set. It is required to set this environment variable to '1' in both driver and executor sides if you use pyarrow>=2.0.0. pandas-on-Spark will set it for you but it does not work if there is a Spark context already launched.\n",
      "  warnings.warn(\n"
     ]
    }
   ],
   "source": [
    "import pyspark.pandas as ps\n",
    "\n",
    "df_spx_pandas = ps.DataFrame(df_spx)"
   ]
  },
  {
   "cell_type": "code",
   "execution_count": 26,
   "id": "b60a5b9f",
   "metadata": {},
   "outputs": [
    {
     "data": {
      "text/html": [
       "<div>\n",
       "<style scoped>\n",
       "    .dataframe tbody tr th:only-of-type {\n",
       "        vertical-align: middle;\n",
       "    }\n",
       "\n",
       "    .dataframe tbody tr th {\n",
       "        vertical-align: top;\n",
       "    }\n",
       "\n",
       "    .dataframe thead th {\n",
       "        text-align: right;\n",
       "    }\n",
       "</style>\n",
       "<table border=\"1\" class=\"dataframe\">\n",
       "  <thead>\n",
       "    <tr style=\"text-align: right;\">\n",
       "      <th></th>\n",
       "      <th>_c0</th>\n",
       "      <th>date</th>\n",
       "      <th>open</th>\n",
       "      <th>high</th>\n",
       "      <th>low</th>\n",
       "      <th>close</th>\n",
       "      <th>adj_close</th>\n",
       "      <th>volume</th>\n",
       "      <th>symbol</th>\n",
       "    </tr>\n",
       "  </thead>\n",
       "  <tbody>\n",
       "    <tr>\n",
       "      <th>0</th>\n",
       "      <td>0</td>\n",
       "      <td>2018-01-02</td>\n",
       "      <td>2683.729980</td>\n",
       "      <td>2695.889893</td>\n",
       "      <td>2682.360107</td>\n",
       "      <td>2695.810059</td>\n",
       "      <td>2695.810059</td>\n",
       "      <td>3397430000</td>\n",
       "      <td>^GSPC</td>\n",
       "    </tr>\n",
       "    <tr>\n",
       "      <th>1</th>\n",
       "      <td>1</td>\n",
       "      <td>2018-01-03</td>\n",
       "      <td>2697.850098</td>\n",
       "      <td>2714.370117</td>\n",
       "      <td>2697.770020</td>\n",
       "      <td>2713.060059</td>\n",
       "      <td>2713.060059</td>\n",
       "      <td>3544030000</td>\n",
       "      <td>^GSPC</td>\n",
       "    </tr>\n",
       "    <tr>\n",
       "      <th>2</th>\n",
       "      <td>2</td>\n",
       "      <td>2018-01-04</td>\n",
       "      <td>2719.310059</td>\n",
       "      <td>2729.290039</td>\n",
       "      <td>2719.070068</td>\n",
       "      <td>2723.989990</td>\n",
       "      <td>2723.989990</td>\n",
       "      <td>3697340000</td>\n",
       "      <td>^GSPC</td>\n",
       "    </tr>\n",
       "    <tr>\n",
       "      <th>3</th>\n",
       "      <td>3</td>\n",
       "      <td>2018-01-05</td>\n",
       "      <td>2731.330078</td>\n",
       "      <td>2743.449951</td>\n",
       "      <td>2727.919922</td>\n",
       "      <td>2743.149902</td>\n",
       "      <td>2743.149902</td>\n",
       "      <td>3239280000</td>\n",
       "      <td>^GSPC</td>\n",
       "    </tr>\n",
       "    <tr>\n",
       "      <th>4</th>\n",
       "      <td>4</td>\n",
       "      <td>2018-01-08</td>\n",
       "      <td>2742.669922</td>\n",
       "      <td>2748.510010</td>\n",
       "      <td>2737.600098</td>\n",
       "      <td>2747.709961</td>\n",
       "      <td>2747.709961</td>\n",
       "      <td>3246160000</td>\n",
       "      <td>^GSPC</td>\n",
       "    </tr>\n",
       "  </tbody>\n",
       "</table>\n",
       "</div>"
      ],
      "text/plain": [
       "   _c0        date         open         high          low        close    adj_close      volume symbol\n",
       "0    0  2018-01-02  2683.729980  2695.889893  2682.360107  2695.810059  2695.810059  3397430000  ^GSPC\n",
       "1    1  2018-01-03  2697.850098  2714.370117  2697.770020  2713.060059  2713.060059  3544030000  ^GSPC\n",
       "2    2  2018-01-04  2719.310059  2729.290039  2719.070068  2723.989990  2723.989990  3697340000  ^GSPC\n",
       "3    3  2018-01-05  2731.330078  2743.449951  2727.919922  2743.149902  2743.149902  3239280000  ^GSPC\n",
       "4    4  2018-01-08  2742.669922  2748.510010  2737.600098  2747.709961  2747.709961  3246160000  ^GSPC"
      ]
     },
     "execution_count": 26,
     "metadata": {},
     "output_type": "execute_result"
    }
   ],
   "source": [
    "df_spx_pandas.head()"
   ]
  },
  {
   "cell_type": "code",
   "execution_count": 27,
   "id": "8437e205",
   "metadata": {},
   "outputs": [
    {
     "data": {
      "text/html": [
       "<div>\n",
       "<style scoped>\n",
       "    .dataframe tbody tr th:only-of-type {\n",
       "        vertical-align: middle;\n",
       "    }\n",
       "\n",
       "    .dataframe tbody tr th {\n",
       "        vertical-align: top;\n",
       "    }\n",
       "\n",
       "    .dataframe thead th {\n",
       "        text-align: right;\n",
       "    }\n",
       "</style>\n",
       "<table border=\"1\" class=\"dataframe\">\n",
       "  <thead>\n",
       "    <tr style=\"text-align: right;\">\n",
       "      <th></th>\n",
       "      <th>_c0</th>\n",
       "      <th>open</th>\n",
       "      <th>high</th>\n",
       "      <th>low</th>\n",
       "      <th>close</th>\n",
       "      <th>adj_close</th>\n",
       "      <th>volume</th>\n",
       "    </tr>\n",
       "  </thead>\n",
       "  <tbody>\n",
       "    <tr>\n",
       "      <th>count</th>\n",
       "      <td>1229.000000</td>\n",
       "      <td>1229.000000</td>\n",
       "      <td>1229.000000</td>\n",
       "      <td>1229.000000</td>\n",
       "      <td>1229.000000</td>\n",
       "      <td>1229.000000</td>\n",
       "      <td>1.229000e+03</td>\n",
       "    </tr>\n",
       "    <tr>\n",
       "      <th>mean</th>\n",
       "      <td>614.000000</td>\n",
       "      <td>3437.767981</td>\n",
       "      <td>3458.883555</td>\n",
       "      <td>3414.612938</td>\n",
       "      <td>3437.854352</td>\n",
       "      <td>3437.854352</td>\n",
       "      <td>4.235175e+09</td>\n",
       "    </tr>\n",
       "    <tr>\n",
       "      <th>std</th>\n",
       "      <td>354.926049</td>\n",
       "      <td>672.382944</td>\n",
       "      <td>675.864967</td>\n",
       "      <td>668.834080</td>\n",
       "      <td>672.511442</td>\n",
       "      <td>672.511442</td>\n",
       "      <td>1.083341e+09</td>\n",
       "    </tr>\n",
       "    <tr>\n",
       "      <th>min</th>\n",
       "      <td>0.000000</td>\n",
       "      <td>2290.709961</td>\n",
       "      <td>2300.729980</td>\n",
       "      <td>2191.860107</td>\n",
       "      <td>2237.399902</td>\n",
       "      <td>2237.399902</td>\n",
       "      <td>1.296530e+09</td>\n",
       "    </tr>\n",
       "    <tr>\n",
       "      <th>25%</th>\n",
       "      <td>307.000000</td>\n",
       "      <td>2836.699951</td>\n",
       "      <td>2852.419922</td>\n",
       "      <td>2820.429932</td>\n",
       "      <td>2839.250000</td>\n",
       "      <td>2839.250000</td>\n",
       "      <td>3.523520e+09</td>\n",
       "    </tr>\n",
       "    <tr>\n",
       "      <th>50%</th>\n",
       "      <td>614.000000</td>\n",
       "      <td>3240.090088</td>\n",
       "      <td>3259.810059</td>\n",
       "      <td>3227.199951</td>\n",
       "      <td>3246.219971</td>\n",
       "      <td>3246.219971</td>\n",
       "      <td>3.996900e+09</td>\n",
       "    </tr>\n",
       "    <tr>\n",
       "      <th>75%</th>\n",
       "      <td>921.000000</td>\n",
       "      <td>4074.290039</td>\n",
       "      <td>4083.419922</td>\n",
       "      <td>4033.929932</td>\n",
       "      <td>4067.360107</td>\n",
       "      <td>4067.360107</td>\n",
       "      <td>4.687320e+09</td>\n",
       "    </tr>\n",
       "    <tr>\n",
       "      <th>max</th>\n",
       "      <td>1228.000000</td>\n",
       "      <td>4804.509766</td>\n",
       "      <td>4818.620117</td>\n",
       "      <td>4780.040039</td>\n",
       "      <td>4796.560059</td>\n",
       "      <td>4796.560059</td>\n",
       "      <td>9.976520e+09</td>\n",
       "    </tr>\n",
       "  </tbody>\n",
       "</table>\n",
       "</div>"
      ],
      "text/plain": [
       "               _c0         open         high          low        close    adj_close        volume\n",
       "count  1229.000000  1229.000000  1229.000000  1229.000000  1229.000000  1229.000000  1.229000e+03\n",
       "mean    614.000000  3437.767981  3458.883555  3414.612938  3437.854352  3437.854352  4.235175e+09\n",
       "std     354.926049   672.382944   675.864967   668.834080   672.511442   672.511442  1.083341e+09\n",
       "min       0.000000  2290.709961  2300.729980  2191.860107  2237.399902  2237.399902  1.296530e+09\n",
       "25%     307.000000  2836.699951  2852.419922  2820.429932  2839.250000  2839.250000  3.523520e+09\n",
       "50%     614.000000  3240.090088  3259.810059  3227.199951  3246.219971  3246.219971  3.996900e+09\n",
       "75%     921.000000  4074.290039  4083.419922  4033.929932  4067.360107  4067.360107  4.687320e+09\n",
       "max    1228.000000  4804.509766  4818.620117  4780.040039  4796.560059  4796.560059  9.976520e+09"
      ]
     },
     "execution_count": 27,
     "metadata": {},
     "output_type": "execute_result"
    }
   ],
   "source": [
    "df_spx_pandas.describe()"
   ]
  },
  {
   "cell_type": "code",
   "execution_count": 31,
   "id": "4930118f",
   "metadata": {},
   "outputs": [
    {
     "data": {
      "text/plain": [
       "_c0            int32\n",
       "date          object\n",
       "open         float64\n",
       "high         float64\n",
       "low          float64\n",
       "close        float64\n",
       "adj_close    float64\n",
       "volume         int64\n",
       "symbol        object\n",
       "dtype: object"
      ]
     },
     "execution_count": 31,
     "metadata": {},
     "output_type": "execute_result"
    }
   ],
   "source": [
    "df_spx_pandas.dtypes"
   ]
  },
  {
   "cell_type": "markdown",
   "id": "5a2fc6b6",
   "metadata": {},
   "source": [
    "# Vamos criar uma vista temporária para os dados para pudermos utilizar num comando SQL"
   ]
  },
  {
   "cell_type": "code",
   "execution_count": null,
   "id": "be6c2e38",
   "metadata": {},
   "outputs": [],
   "source": [
    "df_spx.createOrReplaceTempView(\"xico\")"
   ]
  },
  {
   "cell_type": "markdown",
   "id": "0d697072",
   "metadata": {},
   "source": [
    "# Vamos confirmar as vistas criadas"
   ]
  },
  {
   "cell_type": "code",
   "execution_count": null,
   "id": "186c14c1",
   "metadata": {},
   "outputs": [],
   "source": [
    "spark.catalog.listTables()"
   ]
  },
  {
   "cell_type": "code",
   "execution_count": null,
   "id": "5ea01a53",
   "metadata": {},
   "outputs": [],
   "source": [
    "sql = spark.sql(\"\"\" SELECT * FROM xico where close > 4700\"\"\")"
   ]
  },
  {
   "cell_type": "code",
   "execution_count": null,
   "id": "a84d163e",
   "metadata": {},
   "outputs": [],
   "source": [
    "sql.show()"
   ]
  },
  {
   "attachments": {},
   "cell_type": "markdown",
   "id": "eb85bb01",
   "metadata": {},
   "source": [
    "# Adicionar uma coluna ao dataframe\n",
    "\n",
    "Vamos calcular a moving average 7 dias"
   ]
  },
  {
   "cell_type": "code",
   "execution_count": null,
   "id": "b9ee9586",
   "metadata": {},
   "outputs": [],
   "source": [
    "from pyspark.sql.window import Window\n",
    "from pyspark.sql.functions import col, avg\n",
    "\n",
    "window = Window.partitionBy('symbol').orderBy(col('_c0')).rowsBetween(-7,0)\n",
    "df_spx = df_spx.withColumn('ma7',avg('close').over(window))"
   ]
  },
  {
   "cell_type": "code",
   "execution_count": null,
   "id": "a9ed27e3",
   "metadata": {},
   "outputs": [],
   "source": [
    "df_spx.show()"
   ]
  },
  {
   "attachments": {},
   "cell_type": "markdown",
   "id": "c2bc37c4",
   "metadata": {},
   "source": [
    "```\n",
    "partitionBy = controla as linhas que ficam na mesma partição. Se estivermos num ambiente distribuido é importante que por exemplo os mesmos symbols sejam processados na mesmo equipamento. \n",
    "```"
   ]
  },
  {
   "attachments": {},
   "cell_type": "markdown",
   "id": "1b638ae6",
   "metadata": {},
   "source": [
    "# Vamos fazer o drop de uma coluna\n",
    "\n",
    "Para tornar a alteração assigna-se novamente ao Spark Dataframe. No pandas temos inplace=True"
   ]
  },
  {
   "cell_type": "code",
   "execution_count": null,
   "id": "933d91c6",
   "metadata": {},
   "outputs": [],
   "source": [
    "df_spx.drop('ma7').show()"
   ]
  },
  {
   "attachments": {},
   "cell_type": "markdown",
   "id": "ae99540d",
   "metadata": {},
   "source": [
    "# Mudar o nome a uma coluna"
   ]
  },
  {
   "cell_type": "code",
   "execution_count": null,
   "id": "9812c99e",
   "metadata": {},
   "outputs": [],
   "source": [
    "df_spx.withColumnRenamed('ma7','moving_average_7').show()"
   ]
  },
  {
   "cell_type": "code",
   "execution_count": null,
   "id": "d444f5b7",
   "metadata": {},
   "outputs": [],
   "source": [
    "df_spx = df_spx.withColumnRenamed('ma7','moving_average_7')"
   ]
  },
  {
   "cell_type": "code",
   "execution_count": null,
   "id": "1848ffa6",
   "metadata": {},
   "outputs": [],
   "source": [
    "df_spx.show()"
   ]
  },
  {
   "cell_type": "code",
   "execution_count": null,
   "id": "29d53a64",
   "metadata": {},
   "outputs": [],
   "source": [
    "# Stop the SparkSession\n",
    "spark.stop()"
   ]
  }
 ],
 "metadata": {
  "kernelspec": {
   "display_name": "trading",
   "language": "python",
   "name": "python3"
  },
  "language_info": {
   "codemirror_mode": {
    "name": "ipython",
    "version": 3
   },
   "file_extension": ".py",
   "mimetype": "text/x-python",
   "name": "python",
   "nbconvert_exporter": "python",
   "pygments_lexer": "ipython3",
   "version": "3.12.2"
  },
  "vscode": {
   "interpreter": {
    "hash": "04564a1046d95370f7cd6169e1f74c2a4d474222cbbb0e33e7b3055c1815a767"
   }
  }
 },
 "nbformat": 4,
 "nbformat_minor": 5
}
