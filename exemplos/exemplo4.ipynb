{
 "cells": [
  {
   "attachments": {},
   "cell_type": "markdown",
   "id": "760686b7",
   "metadata": {},
   "source": [
    "# GroupBy and Aggregate Functions"
   ]
  },
  {
   "cell_type": "code",
   "execution_count": 3,
   "id": "80558b32",
   "metadata": {},
   "outputs": [],
   "source": [
    "# Import PySpark and create a SparkSession\n",
    "from pyspark.sql import SparkSession\n",
    "\n",
    "spark = SparkSession.builder.appName(\"ImportData\").getOrCreate()"
   ]
  },
  {
   "cell_type": "code",
   "execution_count": 4,
   "id": "1a07e8a5",
   "metadata": {},
   "outputs": [
    {
     "data": {
      "text/html": [
       "\n",
       "            <div>\n",
       "                <p><b>SparkSession - in-memory</b></p>\n",
       "                \n",
       "        <div>\n",
       "            <p><b>SparkContext</b></p>\n",
       "\n",
       "            <p><a href=\"http://172.27.215.12:4043\">Spark UI</a></p>\n",
       "\n",
       "            <dl>\n",
       "              <dt>Version</dt>\n",
       "                <dd><code>v3.3.1</code></dd>\n",
       "              <dt>Master</dt>\n",
       "                <dd><code>local[*]</code></dd>\n",
       "              <dt>AppName</dt>\n",
       "                <dd><code>ImportData</code></dd>\n",
       "            </dl>\n",
       "        </div>\n",
       "        \n",
       "            </div>\n",
       "        "
      ],
      "text/plain": [
       "<pyspark.sql.session.SparkSession at 0x7faee41f9bd0>"
      ]
     },
     "execution_count": 4,
     "metadata": {},
     "output_type": "execute_result"
    }
   ],
   "source": [
    "spark"
   ]
  },
  {
   "attachments": {},
   "cell_type": "markdown",
   "id": "a14aa7eb",
   "metadata": {},
   "source": [
    "# Ler o ficheiro"
   ]
  },
  {
   "cell_type": "code",
   "execution_count": 5,
   "id": "a98bacff",
   "metadata": {},
   "outputs": [],
   "source": [
    "# Read a CSV file and create a DataFrame\n",
    "df_customers=spark.read.option(\"header\",\"true\").csv('./data/customers_data.csv',inferSchema=True)"
   ]
  },
  {
   "cell_type": "code",
   "execution_count": 7,
   "id": "af40dde7",
   "metadata": {},
   "outputs": [
    {
     "name": "stdout",
     "output_type": "stream",
     "text": [
      "+----+---+---+---------+-------+-------+-------+--------+-----+---------+----+---------+------+-------+\n",
      "|  Id|age|sex|dayswfreq|tbilled|maccess|freeuse|nentries|cfreq|nrenewals|cref|startDate|months|dropout|\n",
      "+----+---+---+---------+-------+-------+-------+--------+-----+---------+----+---------+------+-------+\n",
      "|0...| 23|  1|        7|   37.6|   1.35|      0|       6|    7|        0|   0|     2...|     1|      1|\n",
      "|0...| 34|  1|      328|   2...|   0.54|      0|      39|    7|        2|   0|     2...|    19|      0|\n",
      "|0...| 24|  0|        3|   1...|    0.8|      0|      28|    7|        0|   0|     2...|     8|      1|\n",
      "|0...| 20|  1|       41|   71.6|    1.0|      0|      13|    7|        0|   0|     2...|     3|      1|\n",
      "|0...| 21|  1|       18|   1...|   0.08|      0|       7|    7|        3|   0|     2...|    24|      1|\n",
      "|0...| 20|  0|       38|   1...|   0.33|      0|      11|    7|        2|   0|     2...|    10|      1|\n",
      "|0...| 26|  1|      279|   53.2|   0.16|      0|       6|    7|        1|   0|     2...|     9|      1|\n",
      "|0...| 44|  0|       45|   3...|   0.93|   null|      52|    7|        2|   0|     2...|    15|      1|\n",
      "|0...| 20|  0|       56|   2...|   0.31|   null|      27|    7|        3|   0|     2...|    22|      1|\n",
      "|0...| 21|  0|        4|   73.6|   2.26|   null|      21|    7|        0|   0|     2...|     3|      1|\n",
      "|0...| 21|  1|       92|   37.6|   0.11|   null|       1|    7|        1|   0|     2...|     3|      1|\n",
      "|0...| 26|  0|       39|   1...|   1.06|   null|      28|    7|        0|   0|     2...|     7|      1|\n",
      "|0...| 22|  0|      292|   73.7|   0.63|      0|      29|    7|        1|   0|     2...|    11|      1|\n",
      "|0...| 32|  1|      204|   2...|   0.11|      0|      11|    7|        2|   0|     2...|    25|      0|\n",
      "|0...| 20|  1|       21|   95.6|   0.33|      0|       8|    7|        0|   0|     2...|     6|      1|\n",
      "|0...| 50|  0|       15|   1...|   1.22|      0|     163|    7|        3|   0|     2...|    34|      0|\n",
      "|0...| 21|  0|      133|   73.6|   0.62|      0|      15|    7|        1|   0|     2...|     6|      1|\n",
      "|0...| 43|  1|        1|   76.6|   0.34|      0|       5|    7|        0|   0|     2...|     4|      1|\n",
      "|0...| 23|  0|       25|   45.1|   0.04|      0|       1|    7|        0|   0|     2...|     6|      1|\n",
      "|0...| 41|  0|        7|   6...|   2.69|      0|     147|    7|        1|   0|     2...|    14|      0|\n",
      "+----+---+---+---------+-------+-------+-------+--------+-----+---------+----+---------+------+-------+\n",
      "only showing top 20 rows\n",
      "\n"
     ]
    }
   ],
   "source": [
    "df_customers.show(truncate=4)"
   ]
  },
  {
   "cell_type": "code",
   "execution_count": 8,
   "id": "016123a2",
   "metadata": {},
   "outputs": [
    {
     "name": "stdout",
     "output_type": "stream",
     "text": [
      "root\n",
      " |-- Id: string (nullable = true)\n",
      " |-- age: integer (nullable = true)\n",
      " |-- sex: integer (nullable = true)\n",
      " |-- dayswfreq: integer (nullable = true)\n",
      " |-- tbilled: double (nullable = true)\n",
      " |-- maccess: double (nullable = true)\n",
      " |-- freeuse: integer (nullable = true)\n",
      " |-- nentries: integer (nullable = true)\n",
      " |-- cfreq: integer (nullable = true)\n",
      " |-- nrenewals: integer (nullable = true)\n",
      " |-- cref: integer (nullable = true)\n",
      " |-- startDate: timestamp (nullable = true)\n",
      " |-- months: integer (nullable = true)\n",
      " |-- dropout: integer (nullable = true)\n",
      "\n"
     ]
    }
   ],
   "source": [
    "df_customers.printSchema()"
   ]
  },
  {
   "attachments": {},
   "cell_type": "markdown",
   "id": "0678e523",
   "metadata": {},
   "source": [
    "# groupby"
   ]
  },
  {
   "cell_type": "code",
   "execution_count": 11,
   "id": "a84e4631",
   "metadata": {},
   "outputs": [
    {
     "name": "stdout",
     "output_type": "stream",
     "text": [
      "+---+---+-----+\n",
      "|age|sex|count|\n",
      "+---+---+-----+\n",
      "| 69|  1|    3|\n",
      "| 62|  1|    3|\n",
      "| 30|  0|   60|\n",
      "| 17|  1|    5|\n",
      "| 79|  1|    3|\n",
      "| 58|  1|    2|\n",
      "| 71|  0|    7|\n",
      "| 48|  1|   10|\n",
      "| 83|  0|    1|\n",
      "| 18|  1|   29|\n",
      "| 54|  0|   17|\n",
      "| 93|  0|    1|\n",
      "| 72|  1|    3|\n",
      "| 56|  0|   20|\n",
      "| 42|  0|   14|\n",
      "| 25|  1|  118|\n",
      "| 41|  0|   25|\n",
      "| 64|  0|   10|\n",
      "| 29|  0|   77|\n",
      "| 36|  1|   12|\n",
      "+---+---+-----+\n",
      "only showing top 20 rows\n",
      "\n"
     ]
    }
   ],
   "source": [
    "df_customers.groupBy(\"age\",\"sex\").count().show()"
   ]
  },
  {
   "cell_type": "code",
   "execution_count": 12,
   "id": "0ae90f24",
   "metadata": {},
   "outputs": [
    {
     "name": "stdout",
     "output_type": "stream",
     "text": [
      "+---+---+-----+\n",
      "|age|sex|count|\n",
      "+---+---+-----+\n",
      "| 93|  0|    1|\n",
      "| 87|  1|    1|\n",
      "| 84|  0|    1|\n",
      "| 83|  0|    1|\n",
      "| 83|  1|    1|\n",
      "| 81|  0|    1|\n",
      "| 80|  0|    3|\n",
      "| 79|  1|    3|\n",
      "| 79|  0|    3|\n",
      "| 78|  0|    2|\n",
      "+---+---+-----+\n",
      "only showing top 10 rows\n",
      "\n"
     ]
    }
   ],
   "source": [
    "# age desc order \n",
    "from pyspark.sql.functions import col\n",
    "df_customers.groupBy(\"age\",\"sex\").count().sort(col(\"age\").desc()).show(10)"
   ]
  },
  {
   "cell_type": "code",
   "execution_count": 13,
   "id": "9b952d8a",
   "metadata": {},
   "outputs": [
    {
     "name": "stdout",
     "output_type": "stream",
     "text": [
      "+---+-----+\n",
      "|age|count|\n",
      "+---+-----+\n",
      "|  0|    1|\n",
      "|  9|    1|\n",
      "| 14|    1|\n",
      "| 15|    5|\n",
      "| 16|    6|\n",
      "| 17|    9|\n",
      "| 18|   69|\n",
      "| 19|  469|\n",
      "| 20|  527|\n",
      "| 21|  657|\n",
      "+---+-----+\n",
      "only showing top 10 rows\n",
      "\n"
     ]
    }
   ],
   "source": [
    "# age asc\n",
    "df_customers.groupBy(\"age\").count().sort(col(\"age\").asc()).show(10)"
   ]
  },
  {
   "cell_type": "code",
   "execution_count": 14,
   "id": "49bf0181",
   "metadata": {},
   "outputs": [
    {
     "name": "stdout",
     "output_type": "stream",
     "text": [
      "+---+-----+\n",
      "|age|count|\n",
      "+---+-----+\n",
      "| 21|  657|\n",
      "| 22|  639|\n",
      "| 20|  527|\n",
      "| 19|  469|\n",
      "| 23|  422|\n",
      "| 24|  355|\n",
      "| 25|  245|\n",
      "| 26|  160|\n",
      "| 27|  131|\n",
      "| 29|  114|\n",
      "+---+-----+\n",
      "only showing top 10 rows\n",
      "\n"
     ]
    }
   ],
   "source": [
    "# age asc\n",
    "df_customers.groupBy(\"age\")\\\n",
    "    .count().sort(col(\"count\").desc()).show(10)"
   ]
  },
  {
   "attachments": {},
   "cell_type": "markdown",
   "id": "4e17a581",
   "metadata": {},
   "source": [
    "# Aggregate"
   ]
  },
  {
   "cell_type": "code",
   "execution_count": 15,
   "id": "ff5be49f",
   "metadata": {},
   "outputs": [
    {
     "name": "stdout",
     "output_type": "stream",
     "text": [
      "+----------+\n",
      "|count(age)|\n",
      "+----------+\n",
      "|      5216|\n",
      "+----------+\n",
      "\n"
     ]
    }
   ],
   "source": [
    "# executa em todo dataframe em vez de grupos de dados\n",
    "df_customers.agg({'age':'count'}).show()"
   ]
  },
  {
   "cell_type": "code",
   "execution_count": null,
   "id": "29d53a64",
   "metadata": {},
   "outputs": [],
   "source": [
    "# Stop the SparkSession\n",
    "spark.stop()"
   ]
  }
 ],
 "metadata": {
  "kernelspec": {
   "display_name": "trading",
   "language": "python",
   "name": "python3"
  },
  "language_info": {
   "codemirror_mode": {
    "name": "ipython",
    "version": 3
   },
   "file_extension": ".py",
   "mimetype": "text/x-python",
   "name": "python",
   "nbconvert_exporter": "python",
   "pygments_lexer": "ipython3",
   "version": "3.12.2"
  },
  "vscode": {
   "interpreter": {
    "hash": "04564a1046d95370f7cd6169e1f74c2a4d474222cbbb0e33e7b3055c1815a767"
   }
  }
 },
 "nbformat": 4,
 "nbformat_minor": 5
}
