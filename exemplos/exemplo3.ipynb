{
 "cells": [
  {
   "attachments": {},
   "cell_type": "markdown",
   "id": "760686b7",
   "metadata": {},
   "source": [
    "# First steps\n",
    "* Filters\n",
    "* &, |, ==\n",
    "* ~"
   ]
  },
  {
   "cell_type": "code",
   "execution_count": 1,
   "id": "80558b32",
   "metadata": {},
   "outputs": [
    {
     "name": "stderr",
     "output_type": "stream",
     "text": [
      "your 131072x1 screen size is bogus. expect trouble\n",
      "24/04/26 22:18:44 WARN Utils: Your hostname, msi-sobreiro resolves to a loopback address: 127.0.1.1; using 10.255.255.254 instead (on interface lo)\n",
      "24/04/26 22:18:44 WARN Utils: Set SPARK_LOCAL_IP if you need to bind to another address\n",
      "Setting default log level to \"WARN\".\n",
      "To adjust logging level use sc.setLogLevel(newLevel). For SparkR, use setLogLevel(newLevel).\n",
      "24/04/26 22:18:45 WARN NativeCodeLoader: Unable to load native-hadoop library for your platform... using builtin-java classes where applicable\n"
     ]
    }
   ],
   "source": [
    "# Import PySpark and create a SparkSession\n",
    "from pyspark.sql import SparkSession\n",
    "\n",
    "spark = SparkSession.builder.appName(\"ImportData\").getOrCreate()"
   ]
  },
  {
   "cell_type": "code",
   "execution_count": 2,
   "id": "1a07e8a5",
   "metadata": {},
   "outputs": [
    {
     "data": {
      "text/html": [
       "\n",
       "            <div>\n",
       "                <p><b>SparkSession - in-memory</b></p>\n",
       "                \n",
       "        <div>\n",
       "            <p><b>SparkContext</b></p>\n",
       "\n",
       "            <p><a href=\"http://10.255.255.254:4040\">Spark UI</a></p>\n",
       "\n",
       "            <dl>\n",
       "              <dt>Version</dt>\n",
       "                <dd><code>v3.5.1</code></dd>\n",
       "              <dt>Master</dt>\n",
       "                <dd><code>local[*]</code></dd>\n",
       "              <dt>AppName</dt>\n",
       "                <dd><code>ImportData</code></dd>\n",
       "            </dl>\n",
       "        </div>\n",
       "        \n",
       "            </div>\n",
       "        "
      ],
      "text/plain": [
       "<pyspark.sql.session.SparkSession at 0x7f45a8668350>"
      ]
     },
     "execution_count": 2,
     "metadata": {},
     "output_type": "execute_result"
    }
   ],
   "source": [
    "spark"
   ]
  },
  {
   "attachments": {},
   "cell_type": "markdown",
   "id": "a14aa7eb",
   "metadata": {},
   "source": [
    "# Ler o ficheiro"
   ]
  },
  {
   "cell_type": "code",
   "execution_count": 3,
   "id": "a98bacff",
   "metadata": {},
   "outputs": [
    {
     "name": "stderr",
     "output_type": "stream",
     "text": [
      "                                                                                \r"
     ]
    }
   ],
   "source": [
    "# Read a CSV file and create a DataFrame\n",
    "df_customers=spark.read.option(\"header\",\"true\").csv('./data/customers_data.csv',inferSchema=True)"
   ]
  },
  {
   "cell_type": "code",
   "execution_count": 4,
   "id": "af40dde7",
   "metadata": {},
   "outputs": [
    {
     "name": "stdout",
     "output_type": "stream",
     "text": [
      "+-----+---+---+---------+-------+-------+-------+--------+-----+---------+----+---------+------+-------+\n",
      "|   Id|age|sex|dayswfreq|tbilled|maccess|freeuse|nentries|cfreq|nrenewals|cref|startDate|months|dropout|\n",
      "+-----+---+---+---------+-------+-------+-------+--------+-----+---------+----+---------+------+-------+\n",
      "|00...| 23|  1|        7|   37.6|   1.35|      0|       6|    7|        0|   0|    20...|     1|      1|\n",
      "|00...| 34|  1|      328|  205.6|   0.54|      0|      39|    7|        2|   0|    20...|    19|      0|\n",
      "|00...| 24|  0|        3|  140.0|    0.8|      0|      28|    7|        0|   0|    20...|     8|      1|\n",
      "|00...| 20|  1|       41|   71.6|    1.0|      0|      13|    7|        0|   0|    20...|     3|      1|\n",
      "|00...| 21|  1|       18|  113.2|   0.08|      0|       7|    7|        3|   0|    20...|    24|      1|\n",
      "|00...| 20|  0|       38|  118.6|   0.33|      0|      11|    7|        2|   0|    20...|    10|      1|\n",
      "|00...| 26|  1|      279|   53.2|   0.16|      0|       6|    7|        1|   0|    20...|     9|      1|\n",
      "|00...| 44|  0|       45|  314.7|   0.93|   NULL|      52|    7|        2|   0|    20...|    15|      1|\n",
      "|00...| 20|  0|       56|  201.7|   0.31|   NULL|      27|    7|        3|   0|    20...|    22|      1|\n",
      "|00...| 21|  0|        4|   73.6|   2.26|   NULL|      21|    7|        0|   0|    20...|     3|      1|\n",
      "|00...| 21|  1|       92|   37.6|   0.11|   NULL|       1|    7|        1|   0|    20...|     3|      1|\n",
      "|00...| 26|  0|       39|  188.6|   1.06|   NULL|      28|    7|        0|   0|    20...|     7|      1|\n",
      "|00...| 22|  0|      292|   73.7|   0.63|      0|      29|    7|        1|   0|    20...|    11|      1|\n",
      "|00...| 32|  1|      204|  240.5|   0.11|      0|      11|    7|        2|   0|    20...|    25|      0|\n",
      "|01...| 20|  1|       21|   95.6|   0.33|      0|       8|    7|        0|   0|    20...|     6|      1|\n",
      "|01...| 50|  0|       15|  12...|   1.22|      0|     163|    7|        3|   0|    20...|    34|      0|\n",
      "|01...| 21|  0|      133|   73.6|   0.62|      0|      15|    7|        1|   0|    20...|     6|      1|\n",
      "|01...| 43|  1|        1|   76.6|   0.34|      0|       5|    7|        0|   0|    20...|     4|      1|\n",
      "|01...| 23|  0|       25|   45.1|   0.04|      0|       1|    7|        0|   0|    20...|     6|      1|\n",
      "|01...| 41|  0|        7|  614.2|   2.69|      0|     147|    7|        1|   0|    20...|    14|      0|\n",
      "+-----+---+---+---------+-------+-------+-------+--------+-----+---------+----+---------+------+-------+\n",
      "only showing top 20 rows\n",
      "\n"
     ]
    }
   ],
   "source": [
    "df_customers.show(truncate=5)"
   ]
  },
  {
   "cell_type": "markdown",
   "id": "4e17a581",
   "metadata": {},
   "source": [
    "# Filter operations"
   ]
  },
  {
   "cell_type": "code",
   "execution_count": 7,
   "id": "84f5e9e1",
   "metadata": {},
   "outputs": [
    {
     "name": "stdout",
     "output_type": "stream",
     "text": [
      "+-----+---+---+---------+-------+-------+-------+--------+-----+---------+----+---------+------+-------+\n",
      "|   Id|age|sex|dayswfreq|tbilled|maccess|freeuse|nentries|cfreq|nrenewals|cref|startDate|months|dropout|\n",
      "+-----+---+---+---------+-------+-------+-------+--------+-----+---------+----+---------+------+-------+\n",
      "|15...| 81|  0|       33|  188.2|   0.47|      0|      23|    7|        3|   0|    20...|    17|      1|\n",
      "|4B...| 80|  0|        3|   70.6|   0.85|      0|       4|    7|        0|   0|    20...|     3|      1|\n",
      "|57...| 84|  0|       65|   69.6|   0.34|      0|       4|    7|        0|   0|    20...|     3|      1|\n",
      "|5B...| 87|  1|        0|  102.6|   0.64|      0|       6|    7|        0|   0|    20...|     2|      1|\n",
      "|BA...| 83|  1|       40|  101.6|   0.85|      0|      14|    7|        0|   0|    20...|     4|      1|\n",
      "|BC...| 80|  0|        5|   43.6|   0.67|      0|       4|    7|        0|   0|    20...|     2|      0|\n",
      "|D3...| 83|  0|        0|  174.0|   0.84|      0|     124|    7|        3|   0|    20...|    37|      0|\n",
      "|DD...| 80|  0|      205|   86.8|   0.44|      0|      41|    7|        1|   0|    20...|    23|      1|\n",
      "|ED...| 93|  0|       91|  143.6|   1.19|      0|      38|    7|        1|   0|    20...|     8|      1|\n",
      "+-----+---+---+---------+-------+-------+-------+--------+-----+---------+----+---------+------+-------+\n",
      "\n"
     ]
    }
   ],
   "source": [
    "df_customers.filter(\"age>=80\").show(truncate=5)"
   ]
  },
  {
   "cell_type": "code",
   "execution_count": 10,
   "id": "fa9575a8",
   "metadata": {},
   "outputs": [
    {
     "data": {
      "text/plain": [
       "9"
      ]
     },
     "execution_count": 10,
     "metadata": {},
     "output_type": "execute_result"
    }
   ],
   "source": [
    "df_customers.filter(\"age>=80\").count()"
   ]
  },
  {
   "cell_type": "code",
   "execution_count": 7,
   "id": "4d7fe030",
   "metadata": {},
   "outputs": [
    {
     "name": "stdout",
     "output_type": "stream",
     "text": [
      "+---+---+\n",
      "|age|sex|\n",
      "+---+---+\n",
      "| 81|  0|\n",
      "| 80|  0|\n",
      "| 84|  0|\n",
      "| 87|  1|\n",
      "| 83|  1|\n",
      "| 80|  0|\n",
      "| 83|  0|\n",
      "| 80|  0|\n",
      "| 93|  0|\n",
      "+---+---+\n",
      "\n"
     ]
    }
   ],
   "source": [
    "df_customers.filter(\"age>=80\").select(['age','sex']).show()"
   ]
  },
  {
   "cell_type": "code",
   "execution_count": 11,
   "id": "efcfd3d2",
   "metadata": {},
   "outputs": [
    {
     "name": "stdout",
     "output_type": "stream",
     "text": [
      "+-----+---+---+---------+-------+-------+-------+--------+-----+---------+----+---------+------+-------+\n",
      "|   Id|age|sex|dayswfreq|tbilled|maccess|freeuse|nentries|cfreq|nrenewals|cref|startDate|months|dropout|\n",
      "+-----+---+---+---------+-------+-------+-------+--------+-----+---------+----+---------+------+-------+\n",
      "|15...| 81|  0|       33|  188.2|   0.47|      0|      23|    7|        3|   0|    20...|    17|      1|\n",
      "|57...| 84|  0|       65|   69.6|   0.34|      0|       4|    7|        0|   0|    20...|     3|      1|\n",
      "|5B...| 87|  1|        0|  102.6|   0.64|      0|       6|    7|        0|   0|    20...|     2|      1|\n",
      "|BA...| 83|  1|       40|  101.6|   0.85|      0|      14|    7|        0|   0|    20...|     4|      1|\n",
      "|D3...| 83|  0|        0|  174.0|   0.84|      0|     124|    7|        3|   0|    20...|    37|      0|\n",
      "|ED...| 93|  0|       91|  143.6|   1.19|      0|      38|    7|        1|   0|    20...|     8|      1|\n",
      "+-----+---+---+---------+-------+-------+-------+--------+-----+---------+----+---------+------+-------+\n",
      "\n"
     ]
    }
   ],
   "source": [
    "df_customers.filter(df_customers.age>80).show(truncate=5)"
   ]
  },
  {
   "cell_type": "code",
   "execution_count": 12,
   "id": "688ec42c",
   "metadata": {},
   "outputs": [
    {
     "name": "stdout",
     "output_type": "stream",
     "text": [
      "+---+---+---+---------+-------+-------+-------+--------+-----+---------+----+---------+------+-------+\n",
      "| Id|age|sex|dayswfreq|tbilled|maccess|freeuse|nentries|cfreq|nrenewals|cref|startDate|months|dropout|\n",
      "+---+---+---+---------+-------+-------+-------+--------+-----+---------+----+---------+------+-------+\n",
      "|156| 81|  0|       33|    188|    0.4|      0|      23|    7|        3|   0|      201|    17|      1|\n",
      "|57E| 84|  0|       65|    69.|    0.3|      0|       4|    7|        0|   0|      201|     3|      1|\n",
      "|5B8| 87|  1|        0|    102|    0.6|      0|       6|    7|        0|   0|      201|     2|      1|\n",
      "|BA9| 83|  1|       40|    101|    0.8|      0|      14|    7|        0|   0|      201|     4|      1|\n",
      "|D3C| 83|  0|        0|    174|    0.8|      0|     124|    7|        3|   0|      201|    37|      0|\n",
      "|ED7| 93|  0|       91|    143|    1.1|      0|      38|    7|        1|   0|      201|     8|      1|\n",
      "+---+---+---+---------+-------+-------+-------+--------+-----+---------+----+---------+------+-------+\n",
      "\n"
     ]
    }
   ],
   "source": [
    "df_customers.filter(df_customers['age']>80).show(truncate=3)"
   ]
  },
  {
   "attachments": {},
   "cell_type": "markdown",
   "id": "5c7c4732",
   "metadata": {},
   "source": [
    "Podemos usar:\n",
    "* | or\n",
    "* & and\n",
    "* ~ (negate)"
   ]
  },
  {
   "cell_type": "code",
   "execution_count": 14,
   "id": "3c9b270a",
   "metadata": {},
   "outputs": [
    {
     "name": "stdout",
     "output_type": "stream",
     "text": [
      "+----+---+---+---------+-------+-------+-------+--------+-----+---------+----+---------+------+-------+\n",
      "|  Id|age|sex|dayswfreq|tbilled|maccess|freeuse|nentries|cfreq|nrenewals|cref|startDate|months|dropout|\n",
      "+----+---+---+---------+-------+-------+-------+--------+-----+---------+----+---------+------+-------+\n",
      "|1...| 81|  0|       33|   1...|   0.47|      0|      23|    7|        3|   0|     2...|    17|      1|\n",
      "|5...| 84|  0|       65|   69.6|   0.34|      0|       4|    7|        0|   0|     2...|     3|      1|\n",
      "|D...| 83|  0|        0|   1...|   0.84|      0|     124|    7|        3|   0|     2...|    37|      0|\n",
      "|E...| 93|  0|       91|   1...|   1.19|      0|      38|    7|        1|   0|     2...|     8|      1|\n",
      "+----+---+---+---------+-------+-------+-------+--------+-----+---------+----+---------+------+-------+\n",
      "\n"
     ]
    }
   ],
   "source": [
    "df_customers.filter((df_customers['age']>80) & (~(df_customers['sex']==1))).show(truncate=4)"
   ]
  },
  {
   "cell_type": "code",
   "execution_count": 15,
   "id": "cec510bb",
   "metadata": {},
   "outputs": [
    {
     "name": "stdout",
     "output_type": "stream",
     "text": [
      "+----+---+---+---------+-------+-------+-------+--------+-----+---------+----+---------+------+-------+\n",
      "|  Id|age|sex|dayswfreq|tbilled|maccess|freeuse|nentries|cfreq|nrenewals|cref|startDate|months|dropout|\n",
      "+----+---+---+---------+-------+-------+-------+--------+-----+---------+----+---------+------+-------+\n",
      "|5...| 87|  1|        0|   1...|   0.64|      0|       6|    7|        0|   0|     2...|     2|      1|\n",
      "|B...| 83|  1|       40|   1...|   0.85|      0|      14|    7|        0|   0|     2...|     4|      1|\n",
      "+----+---+---+---------+-------+-------+-------+--------+-----+---------+----+---------+------+-------+\n",
      "\n"
     ]
    }
   ],
   "source": [
    "df_customers.filter((df_customers['age']>80) & (df_customers['sex']==1)).show(truncate=4)"
   ]
  },
  {
   "cell_type": "code",
   "execution_count": 17,
   "id": "29d53a64",
   "metadata": {},
   "outputs": [],
   "source": [
    "# Stop the SparkSession\n",
    "spark.stop()"
   ]
  }
 ],
 "metadata": {
  "kernelspec": {
   "display_name": "trading",
   "language": "python",
   "name": "python3"
  },
  "language_info": {
   "codemirror_mode": {
    "name": "ipython",
    "version": 3
   },
   "file_extension": ".py",
   "mimetype": "text/x-python",
   "name": "python",
   "nbconvert_exporter": "python",
   "pygments_lexer": "ipython3",
   "version": "3.12.3"
  },
  "vscode": {
   "interpreter": {
    "hash": "04564a1046d95370f7cd6169e1f74c2a4d474222cbbb0e33e7b3055c1815a767"
   }
  }
 },
 "nbformat": 4,
 "nbformat_minor": 5
}
