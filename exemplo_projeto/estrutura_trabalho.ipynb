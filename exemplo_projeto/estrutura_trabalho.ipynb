{
 "cells": [
  {
   "attachments": {},
   "cell_type": "markdown",
   "id": "760686b7",
   "metadata": {},
   "source": [
    "# Estrutura do trabalho\n",
    "O resultado do trabalho deverá refletir os aspetos considerados relevantes para o contexto em\n",
    "causa, no jupyter notebook.\n",
    "Com a estrutura (utilizar markdown):\n",
    "1. Introdução: Explicar o problema\n",
    "2. Metodologia: como desenvolveram o trabalho, tipos de dados, transformações e filtros\n",
    "realizados\n",
    "3. Resultados obtidos: resultados dos algoritmos implementados\n",
    "4. Conclusões: Apresentar algumas possibilidades de como é que os resultados obtidos\n",
    "podem ser utilizados para resolver um problema existente\n",
    "\n"
   ]
  },
  {
   "attachments": {},
   "cell_type": "markdown",
   "id": "3cd2fb37",
   "metadata": {},
   "source": [
    "# Título do trabalho\n",
    "\n",
    "* Elementos do grupo nome e número\n",
    "* Nome 1 número 1"
   ]
  },
  {
   "attachments": {},
   "cell_type": "markdown",
   "id": "43ec910c",
   "metadata": {},
   "source": [
    "# Introdução\n",
    "\n",
    "Podem considerar os seguintes aspetos:\n",
    "1. Neste tópico devem fazer um enquadramento ao trabalho;\n",
    "2. De que área são, por exemplo área de negócio;\n",
    "3. Que tipos de dados normalmente são utilizados;\n",
    "4. Depois podem terminar a referir quais são os objetivos do trabalho."
   ]
  },
  {
   "attachments": {},
   "cell_type": "markdown",
   "id": "5af35d59",
   "metadata": {},
   "source": [
    "# Metodologia\n",
    "\n",
    "1. Devem explicar como é que vão ou aonde vão obter os dados: (1) dados foram obtidos na [Binance](http://www.binance.com) e são referentes ao preço da bitcoin diário desde 17-08-2017 até 03-05-2024; (2) os indicadores para análise técnica foram calculados com o [ta-lib](https://ta-lib.org/);  \n",
    "2. Quais são as ferramentas que vão utilizar, por exemplo [Pandas][1], [PySpark][2] ou PySpark MLLib.\n",
    "3. Como é que os vão trabalhar: (1) os dados foram tratados com [PySpark][2]; (2) missing values foram removidos do dataframe; (3) para processarmento com a biblioteca sklearn foram convertidos para pandas dataframes.\n",
    "4. A variavel preditora valor do dia seguinte foi calculada com: df['nextday'] = df['close'].shift(-1) e definida uma variável df['updown'] = df.nextday > df.close. \n",
    "5. Quais foram os algoritmos que utilizaram, e.g. Decision Tree Classifier, Random Forest Classifier, ver exemplo descrição [aqui](https://www.mdpi.com/1660-4601/18/19/10465)\n",
    "\n",
    "* [1]: McKinney, W. (2010). Data structures for statistical computing in python. Proceedings of the 9th Python in Science Conference, 445, 51–56.\n",
    "* [2]: Zaharia, M., Xin, R. S., Wendell, P., Das, T., Armbrust, M., Dave, A., Meng, X., Rosen, J., Venkataraman, S., Franklin, M. J., Ghodsi, A., Gonzalez, J., Shenker, S., & Stoica, I. (2016). Apache Spark: A Unified Engine for Big Data Processing. Commun. ACM, 59(11), 56–65. https://doi.org/10.1145/2934664"
   ]
  },
  {
   "attachments": {},
   "cell_type": "markdown",
   "id": "cf5483e5",
   "metadata": {},
   "source": [
    "# Resultados\n",
    "\n",
    "1. Qual é o tamanho do dataset\n",
    "2. Podem explicar globalmente os dados com estatísticas descritivas por exemplo data_frame.describe().show(truncate=2) e descrevem a média (mean) e desvio padrão (stddev)  \n",
    "3. Têm mais funções [aqui](https://spark.apache.org/docs/latest/api/python/reference/pyspark.pandas/frame.html) como por exemplo correlações data_frame.corr(\"col1\",\"col2\")"
   ]
  },
  {
   "attachments": {},
   "cell_type": "markdown",
   "id": "bfd08a28",
   "metadata": {},
   "source": [
    "# Conclusões\n",
    "\n",
    "1. Como é que podem utilizar os resultados que obtiveram\n",
    "2. ..."
   ]
  },
  {
   "cell_type": "code",
   "execution_count": 65,
   "id": "195dae62",
   "metadata": {},
   "outputs": [],
   "source": [
    "# Stop the SparkSession\n",
    "spark.stop()"
   ]
  }
 ],
 "metadata": {
  "kernelspec": {
   "display_name": "trading",
   "language": "python",
   "name": "python3"
  },
  "language_info": {
   "codemirror_mode": {
    "name": "ipython",
    "version": 3
   },
   "file_extension": ".py",
   "mimetype": "text/x-python",
   "name": "python",
   "nbconvert_exporter": "python",
   "pygments_lexer": "ipython3",
   "version": "3.7.15"
  },
  "vscode": {
   "interpreter": {
    "hash": "04564a1046d95370f7cd6169e1f74c2a4d474222cbbb0e33e7b3055c1815a767"
   }
  }
 },
 "nbformat": 4,
 "nbformat_minor": 5
}
